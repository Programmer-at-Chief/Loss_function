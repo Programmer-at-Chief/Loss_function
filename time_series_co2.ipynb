{
 "cells": [
  {
   "cell_type": "code",
   "execution_count": 60,
   "metadata": {},
   "outputs": [],
   "source": [
    "import numpy as np\n",
    "np.random.seed(1) # for reproducibility\n",
    "\n",
    "import keras.backend as K\n",
    "import tensorflow as tf\n",
    "import yfinance as yf\n",
    "import pandas as pd\n",
    "import matplotlib.pyplot as plt\n",
    "import time\n",
    "import os\n",
    "import pickle\n",
    "import numpy as np\n",
    "from tensorflow.keras.models import Sequential, load_model\n",
    "from tensorflow.keras.layers import *\n",
    "from tensorflow.keras.callbacks import ModelCheckpoint\n",
    "# from tensorflow.keras import optimizers\n",
    "from tensorflow.keras.metrics import RootMeanSquaredError\n",
    "from tensorflow.keras.optimizers import Adam\n",
    "from sklearn.preprocessing import MinMaxScaler\n",
    "from sklearn.model_selection import train_test_split\n",
    "from sklearn.metrics import mean_squared_error, mean_absolute_error,r2_score"
   ]
  },
  {
   "cell_type": "code",
   "execution_count": 6,
   "metadata": {},
   "outputs": [
    {
     "name": "stdout",
     "output_type": "stream",
     "text": [
      "              co2\n",
      "1958-03-29  316.1\n",
      "1958-04-05  317.3\n",
      "1958-04-12  317.6\n",
      "1958-04-19  317.5\n",
      "1958-04-26  316.4\n"
     ]
    }
   ],
   "source": [
    "import statsmodels.api as sm\n",
    "\n",
    "data = sm.datasets.co2.load_pandas().data\n",
    "data.dropna(inplace=True)\n",
    "print(data.head())\n",
    "# CO2 Emissions Dataset: Daily CO2 measurements from Mauna Loa Observatory.\n",
    "# Or get 'macrodata' for macroeconomic time series data\n",
    "# data_macro = sm.datasets.macrodata.load_pandas().data\n",
    "# print(data_macro.head())"
   ]
  },
  {
   "cell_type": "code",
   "execution_count": 7,
   "metadata": {},
   "outputs": [
    {
     "data": {
      "text/html": [
       "<div>\n",
       "<style scoped>\n",
       "    .dataframe tbody tr th:only-of-type {\n",
       "        vertical-align: middle;\n",
       "    }\n",
       "\n",
       "    .dataframe tbody tr th {\n",
       "        vertical-align: top;\n",
       "    }\n",
       "\n",
       "    .dataframe thead th {\n",
       "        text-align: right;\n",
       "    }\n",
       "</style>\n",
       "<table border=\"1\" class=\"dataframe\">\n",
       "  <thead>\n",
       "    <tr style=\"text-align: right;\">\n",
       "      <th></th>\n",
       "      <th>co2</th>\n",
       "    </tr>\n",
       "  </thead>\n",
       "  <tbody>\n",
       "    <tr>\n",
       "      <th>2001-12-01</th>\n",
       "      <td>370.3</td>\n",
       "    </tr>\n",
       "    <tr>\n",
       "      <th>2001-12-08</th>\n",
       "      <td>370.8</td>\n",
       "    </tr>\n",
       "    <tr>\n",
       "      <th>2001-12-15</th>\n",
       "      <td>371.2</td>\n",
       "    </tr>\n",
       "    <tr>\n",
       "      <th>2001-12-22</th>\n",
       "      <td>371.3</td>\n",
       "    </tr>\n",
       "    <tr>\n",
       "      <th>2001-12-29</th>\n",
       "      <td>371.5</td>\n",
       "    </tr>\n",
       "  </tbody>\n",
       "</table>\n",
       "</div>"
      ],
      "text/plain": [
       "              co2\n",
       "2001-12-01  370.3\n",
       "2001-12-08  370.8\n",
       "2001-12-15  371.2\n",
       "2001-12-22  371.3\n",
       "2001-12-29  371.5"
      ]
     },
     "execution_count": 7,
     "metadata": {},
     "output_type": "execute_result"
    }
   ],
   "source": [
    "data.tail()"
   ]
  },
  {
   "cell_type": "code",
   "execution_count": 8,
   "metadata": {},
   "outputs": [
    {
     "data": {
      "text/plain": [
       "(2225, 1)"
      ]
     },
     "execution_count": 8,
     "metadata": {},
     "output_type": "execute_result"
    }
   ],
   "source": [
    "data.shape"
   ]
  },
  {
   "cell_type": "code",
   "execution_count": 9,
   "metadata": {},
   "outputs": [
    {
     "data": {
      "text/html": [
       "<div>\n",
       "<style scoped>\n",
       "    .dataframe tbody tr th:only-of-type {\n",
       "        vertical-align: middle;\n",
       "    }\n",
       "\n",
       "    .dataframe tbody tr th {\n",
       "        vertical-align: top;\n",
       "    }\n",
       "\n",
       "    .dataframe thead th {\n",
       "        text-align: right;\n",
       "    }\n",
       "</style>\n",
       "<table border=\"1\" class=\"dataframe\">\n",
       "  <thead>\n",
       "    <tr style=\"text-align: right;\">\n",
       "      <th></th>\n",
       "      <th>co2</th>\n",
       "    </tr>\n",
       "  </thead>\n",
       "  <tbody>\n",
       "    <tr>\n",
       "      <th>count</th>\n",
       "      <td>2225.000000</td>\n",
       "    </tr>\n",
       "    <tr>\n",
       "      <th>mean</th>\n",
       "      <td>340.142247</td>\n",
       "    </tr>\n",
       "    <tr>\n",
       "      <th>std</th>\n",
       "      <td>17.003885</td>\n",
       "    </tr>\n",
       "    <tr>\n",
       "      <th>min</th>\n",
       "      <td>313.000000</td>\n",
       "    </tr>\n",
       "    <tr>\n",
       "      <th>25%</th>\n",
       "      <td>324.800000</td>\n",
       "    </tr>\n",
       "    <tr>\n",
       "      <th>50%</th>\n",
       "      <td>338.300000</td>\n",
       "    </tr>\n",
       "    <tr>\n",
       "      <th>75%</th>\n",
       "      <td>354.800000</td>\n",
       "    </tr>\n",
       "    <tr>\n",
       "      <th>max</th>\n",
       "      <td>373.900000</td>\n",
       "    </tr>\n",
       "  </tbody>\n",
       "</table>\n",
       "</div>"
      ],
      "text/plain": [
       "               co2\n",
       "count  2225.000000\n",
       "mean    340.142247\n",
       "std      17.003885\n",
       "min     313.000000\n",
       "25%     324.800000\n",
       "50%     338.300000\n",
       "75%     354.800000\n",
       "max     373.900000"
      ]
     },
     "execution_count": 9,
     "metadata": {},
     "output_type": "execute_result"
    }
   ],
   "source": [
    "data.describe()"
   ]
  },
  {
   "cell_type": "code",
   "execution_count": 10,
   "metadata": {},
   "outputs": [],
   "source": [
    "scaler = MinMaxScaler()\n",
    "data_scaled = scaler.fit_transform(data)\n",
    "data_scaled = data_scaled.reshape(data_scaled.shape[0])"
   ]
  },
  {
   "cell_type": "code",
   "execution_count": 11,
   "metadata": {},
   "outputs": [
    {
     "data": {
      "text/plain": [
       "(2225,)"
      ]
     },
     "execution_count": 11,
     "metadata": {},
     "output_type": "execute_result"
    }
   ],
   "source": [
    "data_scaled.shape"
   ]
  },
  {
   "cell_type": "code",
   "execution_count": 12,
   "metadata": {},
   "outputs": [
    {
     "data": {
      "text/plain": [
       "[<matplotlib.lines.Line2D at 0x71292c1f24e0>]"
      ]
     },
     "execution_count": 12,
     "metadata": {},
     "output_type": "execute_result"
    },
    {
     "data": {
      "image/png": "[encoded data removed]",
      "text/plain": [
       "<Figure size 640x480 with 1 Axes>"
      ]
     },
     "metadata": {},
     "output_type": "display_data"
    }
   ],
   "source": [
    "plt.title('C02 Measurements')\n",
    "plt.xlabel('Years')\n",
    "plt.ylabel('Observed value')\n",
    "plt.plot(data_scaled)"
   ]
  },
  {
   "cell_type": "code",
   "execution_count": 13,
   "metadata": {},
   "outputs": [],
   "source": [
    "def create_data(dataset,window_size = 10):\n",
    "    # df = dataset.to_numpy()\n",
    "    df = dataset.copy()\n",
    "    X = []\n",
    "    y = []\n",
    "    for i in range(len(df)-window_size):\n",
    "        row = [a for a in df[i:i+window_size]]\n",
    "        X.append(row)\n",
    "        label = df[i+window_size]\n",
    "        y.append(label)\n",
    "        \n",
    "    return np.array(X),np.array(y)\n",
    "\n"
   ]
  },
  {
   "cell_type": "code",
   "execution_count": 14,
   "metadata": {},
   "outputs": [],
   "source": [
    "WINDOW_SIZE = 10\n",
    "\n",
    "X,y = create_data(data_scaled,WINDOW_SIZE)"
   ]
  },
  {
   "cell_type": "code",
   "execution_count": 17,
   "metadata": {},
   "outputs": [],
   "source": [
    "X_train,X_test,Y_train,Y_test = train_test_split(X,y,test_size=0.2,random_state=42)"
   ]
  },
  {
   "cell_type": "code",
   "execution_count": 37,
   "metadata": {},
   "outputs": [
    {
     "name": "stdout",
     "output_type": "stream",
     "text": [
      "Epoch 1/50\n",
      "\u001b[1m56/56\u001b[0m \u001b[32m━━━━━━━━━━━━━━━━━━━━\u001b[0m\u001b[37m\u001b[0m \u001b[1m4s\u001b[0m 12ms/step - loss: 0.0839 - root_mean_squared_error: 0.2735 - val_loss: 0.0012 - val_root_mean_squared_error: 0.0352\n",
      "Epoch 2/50\n",
      "\u001b[1m56/56\u001b[0m \u001b[32m━━━━━━━━━━━━━━━━━━━━\u001b[0m\u001b[37m\u001b[0m \u001b[1m0s\u001b[0m 6ms/step - loss: 7.4711e-04 - root_mean_squared_error: 0.0272 - val_loss: 5.8014e-04 - val_root_mean_squared_error: 0.0241\n",
      "Epoch 3/50\n",
      "\u001b[1m56/56\u001b[0m \u001b[32m━━━━━━━━━━━━━━━━━━━━\u001b[0m\u001b[37m\u001b[0m \u001b[1m0s\u001b[0m 6ms/step - loss: 6.1566e-04 - root_mean_squared_error: 0.0248 - val_loss: 5.8932e-04 - val_root_mean_squared_error: 0.0243\n",
      "Epoch 4/50\n",
      "\u001b[1m56/56\u001b[0m \u001b[32m━━━━━━━━━━━━━━━━━━━━\u001b[0m\u001b[37m\u001b[0m \u001b[1m0s\u001b[0m 6ms/step - loss: 5.7672e-04 - root_mean_squared_error: 0.0240 - val_loss: 5.5433e-04 - val_root_mean_squared_error: 0.0235\n",
      "Epoch 5/50\n",
      "\u001b[1m56/56\u001b[0m \u001b[32m━━━━━━━━━━━━━━━━━━━━\u001b[0m\u001b[37m\u001b[0m \u001b[1m0s\u001b[0m 6ms/step - loss: 5.4835e-04 - root_mean_squared_error: 0.0234 - val_loss: 5.1329e-04 - val_root_mean_squared_error: 0.0227\n",
      "Epoch 6/50\n",
      "\u001b[1m56/56\u001b[0m \u001b[32m━━━━━━━━━━━━━━━━━━━━\u001b[0m\u001b[37m\u001b[0m \u001b[1m0s\u001b[0m 6ms/step - loss: 5.3473e-04 - root_mean_squared_error: 0.0231 - val_loss: 4.8764e-04 - val_root_mean_squared_error: 0.0221\n",
      "Epoch 7/50\n",
      "\u001b[1m56/56\u001b[0m \u001b[32m━━━━━━━━━━━━━━━━━━━━\u001b[0m\u001b[37m\u001b[0m \u001b[1m0s\u001b[0m 6ms/step - loss: 5.1310e-04 - root_mean_squared_error: 0.0226 - val_loss: 6.6829e-04 - val_root_mean_squared_error: 0.0259\n",
      "Epoch 8/50\n",
      "\u001b[1m56/56\u001b[0m \u001b[32m━━━━━━━━━━━━━━━━━━━━\u001b[0m\u001b[37m\u001b[0m \u001b[1m0s\u001b[0m 6ms/step - loss: 5.3689e-04 - root_mean_squared_error: 0.0231 - val_loss: 4.6118e-04 - val_root_mean_squared_error: 0.0215\n",
      "Epoch 9/50\n",
      "\u001b[1m56/56\u001b[0m \u001b[32m━━━━━━━━━━━━━━━━━━━━\u001b[0m\u001b[37m\u001b[0m \u001b[1m0s\u001b[0m 6ms/step - loss: 5.0469e-04 - root_mean_squared_error: 0.0225 - val_loss: 5.0402e-04 - val_root_mean_squared_error: 0.0225\n",
      "Epoch 10/50\n",
      "\u001b[1m56/56\u001b[0m \u001b[32m━━━━━━━━━━━━━━━━━━━━\u001b[0m\u001b[37m\u001b[0m \u001b[1m0s\u001b[0m 6ms/step - loss: 4.4224e-04 - root_mean_squared_error: 0.0210 - val_loss: 5.3365e-04 - val_root_mean_squared_error: 0.0231\n",
      "Epoch 11/50\n",
      "\u001b[1m56/56\u001b[0m \u001b[32m━━━━━━━━━━━━━━━━━━━━\u001b[0m\u001b[37m\u001b[0m \u001b[1m0s\u001b[0m 6ms/step - loss: 4.4965e-04 - root_mean_squared_error: 0.0212 - val_loss: 4.5378e-04 - val_root_mean_squared_error: 0.0213\n",
      "Epoch 12/50\n",
      "\u001b[1m56/56\u001b[0m \u001b[32m━━━━━━━━━━━━━━━━━━━━\u001b[0m\u001b[37m\u001b[0m \u001b[1m0s\u001b[0m 6ms/step - loss: 4.5152e-04 - root_mean_squared_error: 0.0212 - val_loss: 5.9529e-04 - val_root_mean_squared_error: 0.0244\n",
      "Epoch 13/50\n",
      "\u001b[1m56/56\u001b[0m \u001b[32m━━━━━━━━━━━━━━━━━━━━\u001b[0m\u001b[37m\u001b[0m \u001b[1m0s\u001b[0m 6ms/step - loss: 4.8279e-04 - root_mean_squared_error: 0.0219 - val_loss: 4.0718e-04 - val_root_mean_squared_error: 0.0202\n",
      "Epoch 14/50\n",
      "\u001b[1m56/56\u001b[0m \u001b[32m━━━━━━━━━━━━━━━━━━━━\u001b[0m\u001b[37m\u001b[0m \u001b[1m0s\u001b[0m 6ms/step - loss: 3.9473e-04 - root_mean_squared_error: 0.0199 - val_loss: 3.4203e-04 - val_root_mean_squared_error: 0.0185\n",
      "Epoch 15/50\n",
      "\u001b[1m56/56\u001b[0m \u001b[32m━━━━━━━━━━━━━━━━━━━━\u001b[0m\u001b[37m\u001b[0m \u001b[1m0s\u001b[0m 6ms/step - loss: 3.6717e-04 - root_mean_squared_error: 0.0191 - val_loss: 3.4761e-04 - val_root_mean_squared_error: 0.0186\n",
      "Epoch 16/50\n",
      "\u001b[1m56/56\u001b[0m \u001b[32m━━━━━━━━━━━━━━━━━━━━\u001b[0m\u001b[37m\u001b[0m \u001b[1m0s\u001b[0m 6ms/step - loss: 3.5369e-04 - root_mean_squared_error: 0.0188 - val_loss: 3.0538e-04 - val_root_mean_squared_error: 0.0175\n",
      "Epoch 17/50\n",
      "\u001b[1m56/56\u001b[0m \u001b[32m━━━━━━━━━━━━━━━━━━━━\u001b[0m\u001b[37m\u001b[0m \u001b[1m0s\u001b[0m 6ms/step - loss: 3.3740e-04 - root_mean_squared_error: 0.0184 - val_loss: 3.5334e-04 - val_root_mean_squared_error: 0.0188\n",
      "Epoch 18/50\n",
      "\u001b[1m56/56\u001b[0m \u001b[32m━━━━━━━━━━━━━━━━━━━━\u001b[0m\u001b[37m\u001b[0m \u001b[1m0s\u001b[0m 6ms/step - loss: 3.4547e-04 - root_mean_squared_error: 0.0186 - val_loss: 3.2358e-04 - val_root_mean_squared_error: 0.0180\n",
      "Epoch 19/50\n",
      "\u001b[1m56/56\u001b[0m \u001b[32m━━━━━━━━━━━━━━━━━━━━\u001b[0m\u001b[37m\u001b[0m \u001b[1m0s\u001b[0m 6ms/step - loss: 2.6135e-04 - root_mean_squared_error: 0.0162 - val_loss: 2.4217e-04 - val_root_mean_squared_error: 0.0156\n",
      "Epoch 20/50\n",
      "\u001b[1m56/56\u001b[0m \u001b[32m━━━━━━━━━━━━━━━━━━━━\u001b[0m\u001b[37m\u001b[0m \u001b[1m0s\u001b[0m 6ms/step - loss: 2.6018e-04 - root_mean_squared_error: 0.0161 - val_loss: 4.5195e-04 - val_root_mean_squared_error: 0.0213\n",
      "Epoch 21/50\n",
      "\u001b[1m56/56\u001b[0m \u001b[32m━━━━━━━━━━━━━━━━━━━━\u001b[0m\u001b[37m\u001b[0m \u001b[1m0s\u001b[0m 6ms/step - loss: 2.6382e-04 - root_mean_squared_error: 0.0162 - val_loss: 2.9584e-04 - val_root_mean_squared_error: 0.0172\n",
      "Epoch 22/50\n",
      "\u001b[1m56/56\u001b[0m \u001b[32m━━━━━━━━━━━━━━━━━━━━\u001b[0m\u001b[37m\u001b[0m \u001b[1m0s\u001b[0m 6ms/step - loss: 2.5434e-04 - root_mean_squared_error: 0.0159 - val_loss: 1.8565e-04 - val_root_mean_squared_error: 0.0136\n",
      "Epoch 23/50\n",
      "\u001b[1m56/56\u001b[0m \u001b[32m━━━━━━━━━━━━━━━━━━━━\u001b[0m\u001b[37m\u001b[0m \u001b[1m0s\u001b[0m 6ms/step - loss: 2.1480e-04 - root_mean_squared_error: 0.0147 - val_loss: 1.7170e-04 - val_root_mean_squared_error: 0.0131\n",
      "Epoch 24/50\n",
      "\u001b[1m56/56\u001b[0m \u001b[32m━━━━━━━━━━━━━━━━━━━━\u001b[0m\u001b[37m\u001b[0m \u001b[1m0s\u001b[0m 6ms/step - loss: 2.1713e-04 - root_mean_squared_error: 0.0147 - val_loss: 1.7390e-04 - val_root_mean_squared_error: 0.0132\n",
      "Epoch 25/50\n",
      "\u001b[1m56/56\u001b[0m \u001b[32m━━━━━━━━━━━━━━━━━━━━\u001b[0m\u001b[37m\u001b[0m \u001b[1m0s\u001b[0m 7ms/step - loss: 1.8868e-04 - root_mean_squared_error: 0.0137 - val_loss: 1.5859e-04 - val_root_mean_squared_error: 0.0126\n",
      "Epoch 26/50\n",
      "\u001b[1m56/56\u001b[0m \u001b[32m━━━━━━━━━━━━━━━━━━━━\u001b[0m\u001b[37m\u001b[0m \u001b[1m0s\u001b[0m 6ms/step - loss: 1.7345e-04 - root_mean_squared_error: 0.0132 - val_loss: 4.3496e-04 - val_root_mean_squared_error: 0.0209\n",
      "Epoch 27/50\n",
      "\u001b[1m56/56\u001b[0m \u001b[32m━━━━━━━━━━━━━━━━━━━━\u001b[0m\u001b[37m\u001b[0m \u001b[1m0s\u001b[0m 6ms/step - loss: 3.0333e-04 - root_mean_squared_error: 0.0173 - val_loss: 1.9117e-04 - val_root_mean_squared_error: 0.0138\n",
      "Epoch 28/50\n",
      "\u001b[1m56/56\u001b[0m \u001b[32m━━━━━━━━━━━━━━━━━━━━\u001b[0m\u001b[37m\u001b[0m \u001b[1m0s\u001b[0m 6ms/step - loss: 2.1153e-04 - root_mean_squared_error: 0.0145 - val_loss: 5.0064e-04 - val_root_mean_squared_error: 0.0224\n",
      "Epoch 29/50\n",
      "\u001b[1m56/56\u001b[0m \u001b[32m━━━━━━━━━━━━━━━━━━━━\u001b[0m\u001b[37m\u001b[0m \u001b[1m0s\u001b[0m 6ms/step - loss: 2.6048e-04 - root_mean_squared_error: 0.0160 - val_loss: 2.5363e-04 - val_root_mean_squared_error: 0.0159\n",
      "Epoch 30/50\n",
      "\u001b[1m56/56\u001b[0m \u001b[32m━━━━━━━━━━━━━━━━━━━━\u001b[0m\u001b[37m\u001b[0m \u001b[1m0s\u001b[0m 6ms/step - loss: 1.7441e-04 - root_mean_squared_error: 0.0132 - val_loss: 1.2667e-04 - val_root_mean_squared_error: 0.0113\n",
      "Epoch 31/50\n",
      "\u001b[1m56/56\u001b[0m \u001b[32m━━━━━━━━━━━━━━━━━━━━\u001b[0m\u001b[37m\u001b[0m \u001b[1m0s\u001b[0m 6ms/step - loss: 1.5815e-04 - root_mean_squared_error: 0.0126 - val_loss: 1.7324e-04 - val_root_mean_squared_error: 0.0132\n",
      "Epoch 32/50\n",
      "\u001b[1m56/56\u001b[0m \u001b[32m━━━━━━━━━━━━━━━━━━━━\u001b[0m\u001b[37m\u001b[0m \u001b[1m0s\u001b[0m 6ms/step - loss: 1.5577e-04 - root_mean_squared_error: 0.0125 - val_loss: 2.7217e-04 - val_root_mean_squared_error: 0.0165\n",
      "Epoch 33/50\n",
      "\u001b[1m56/56\u001b[0m \u001b[32m━━━━━━━━━━━━━━━━━━━━\u001b[0m\u001b[37m\u001b[0m \u001b[1m0s\u001b[0m 7ms/step - loss: 2.1525e-04 - root_mean_squared_error: 0.0146 - val_loss: 1.2605e-04 - val_root_mean_squared_error: 0.0112\n",
      "Epoch 34/50\n",
      "\u001b[1m56/56\u001b[0m \u001b[32m━━━━━━━━━━━━━━━━━━━━\u001b[0m\u001b[37m\u001b[0m \u001b[1m0s\u001b[0m 7ms/step - loss: 1.4698e-04 - root_mean_squared_error: 0.0121 - val_loss: 2.2779e-04 - val_root_mean_squared_error: 0.0151\n",
      "Epoch 35/50\n",
      "\u001b[1m56/56\u001b[0m \u001b[32m━━━━━━━━━━━━━━━━━━━━\u001b[0m\u001b[37m\u001b[0m \u001b[1m0s\u001b[0m 6ms/step - loss: 1.6449e-04 - root_mean_squared_error: 0.0128 - val_loss: 1.3843e-04 - val_root_mean_squared_error: 0.0118\n",
      "Epoch 36/50\n",
      "\u001b[1m56/56\u001b[0m \u001b[32m━━━━━━━━━━━━━━━━━━━━\u001b[0m\u001b[37m\u001b[0m \u001b[1m0s\u001b[0m 7ms/step - loss: 1.5072e-04 - root_mean_squared_error: 0.0123 - val_loss: 2.2904e-04 - val_root_mean_squared_error: 0.0151\n",
      "Epoch 37/50\n",
      "\u001b[1m56/56\u001b[0m \u001b[32m━━━━━━━━━━━━━━━━━━━━\u001b[0m\u001b[37m\u001b[0m \u001b[1m0s\u001b[0m 6ms/step - loss: 1.6765e-04 - root_mean_squared_error: 0.0129 - val_loss: 1.6553e-04 - val_root_mean_squared_error: 0.0129\n",
      "Epoch 38/50\n",
      "\u001b[1m56/56\u001b[0m \u001b[32m━━━━━━━━━━━━━━━━━━━━\u001b[0m\u001b[37m\u001b[0m \u001b[1m0s\u001b[0m 6ms/step - loss: 1.7156e-04 - root_mean_squared_error: 0.0131 - val_loss: 1.1451e-04 - val_root_mean_squared_error: 0.0107\n",
      "Epoch 39/50\n",
      "\u001b[1m56/56\u001b[0m \u001b[32m━━━━━━━━━━━━━━━━━━━━\u001b[0m\u001b[37m\u001b[0m \u001b[1m0s\u001b[0m 6ms/step - loss: 1.3327e-04 - root_mean_squared_error: 0.0115 - val_loss: 1.1129e-04 - val_root_mean_squared_error: 0.0105\n",
      "Epoch 40/50\n",
      "\u001b[1m56/56\u001b[0m \u001b[32m━━━━━━━━━━━━━━━━━━━━\u001b[0m\u001b[37m\u001b[0m \u001b[1m0s\u001b[0m 6ms/step - loss: 1.3130e-04 - root_mean_squared_error: 0.0114 - val_loss: 1.2818e-04 - val_root_mean_squared_error: 0.0113\n",
      "Epoch 41/50\n",
      "\u001b[1m56/56\u001b[0m \u001b[32m━━━━━━━━━━━━━━━━━━━━\u001b[0m\u001b[37m\u001b[0m \u001b[1m0s\u001b[0m 6ms/step - loss: 1.3967e-04 - root_mean_squared_error: 0.0118 - val_loss: 1.5183e-04 - val_root_mean_squared_error: 0.0123\n",
      "Epoch 42/50\n",
      "\u001b[1m56/56\u001b[0m \u001b[32m━━━━━━━━━━━━━━━━━━━━\u001b[0m\u001b[37m\u001b[0m \u001b[1m0s\u001b[0m 6ms/step - loss: 1.1256e-04 - root_mean_squared_error: 0.0106 - val_loss: 1.1975e-04 - val_root_mean_squared_error: 0.0109\n",
      "Epoch 43/50\n",
      "\u001b[1m56/56\u001b[0m \u001b[32m━━━━━━━━━━━━━━━━━━━━\u001b[0m\u001b[37m\u001b[0m \u001b[1m0s\u001b[0m 6ms/step - loss: 1.2653e-04 - root_mean_squared_error: 0.0112 - val_loss: 3.3453e-04 - val_root_mean_squared_error: 0.0183\n",
      "Epoch 44/50\n",
      "\u001b[1m56/56\u001b[0m \u001b[32m━━━━━━━━━━━━━━━━━━━━\u001b[0m\u001b[37m\u001b[0m \u001b[1m0s\u001b[0m 6ms/step - loss: 1.6687e-04 - root_mean_squared_error: 0.0129 - val_loss: 1.5871e-04 - val_root_mean_squared_error: 0.0126\n",
      "Epoch 45/50\n",
      "\u001b[1m56/56\u001b[0m \u001b[32m━━━━━━━━━━━━━━━━━━━━\u001b[0m\u001b[37m\u001b[0m \u001b[1m0s\u001b[0m 6ms/step - loss: 1.1837e-04 - root_mean_squared_error: 0.0109 - val_loss: 1.3046e-04 - val_root_mean_squared_error: 0.0114\n",
      "Epoch 46/50\n",
      "\u001b[1m56/56\u001b[0m \u001b[32m━━━━━━━━━━━━━━━━━━━━\u001b[0m\u001b[37m\u001b[0m \u001b[1m0s\u001b[0m 6ms/step - loss: 1.2425e-04 - root_mean_squared_error: 0.0111 - val_loss: 1.3181e-04 - val_root_mean_squared_error: 0.0115\n",
      "Epoch 47/50\n",
      "\u001b[1m56/56\u001b[0m \u001b[32m━━━━━━━━━━━━━━━━━━━━\u001b[0m\u001b[37m\u001b[0m \u001b[1m0s\u001b[0m 6ms/step - loss: 1.1603e-04 - root_mean_squared_error: 0.0108 - val_loss: 1.1065e-04 - val_root_mean_squared_error: 0.0105\n",
      "Epoch 48/50\n",
      "\u001b[1m56/56\u001b[0m \u001b[32m━━━━━━━━━━━━━━━━━━━━\u001b[0m\u001b[37m\u001b[0m \u001b[1m0s\u001b[0m 6ms/step - loss: 1.0240e-04 - root_mean_squared_error: 0.0101 - val_loss: 1.1845e-04 - val_root_mean_squared_error: 0.0109\n",
      "Epoch 49/50\n",
      "\u001b[1m56/56\u001b[0m \u001b[32m━━━━━━━━━━━━━━━━━━━━\u001b[0m\u001b[37m\u001b[0m \u001b[1m0s\u001b[0m 6ms/step - loss: 1.0253e-04 - root_mean_squared_error: 0.0101 - val_loss: 1.7332e-04 - val_root_mean_squared_error: 0.0132\n",
      "Epoch 50/50\n",
      "\u001b[1m56/56\u001b[0m \u001b[32m━━━━━━━━━━━━━━━━━━━━\u001b[0m\u001b[37m\u001b[0m \u001b[1m0s\u001b[0m 7ms/step - loss: 1.4340e-04 - root_mean_squared_error: 0.0120 - val_loss: 9.4494e-05 - val_root_mean_squared_error: 0.0097\n"
     ]
    }
   ],
   "source": [
    "model_mse = Sequential()\n",
    "model_mse.add(InputLayer(shape = (10,1)))\n",
    "model_mse.add(LSTM(128))\n",
    "model_mse.add(Dense(8,'relu'))\n",
    "model_mse.add(Dense(1,'linear'))\n",
    "\n",
    "# model_mse.summary()\n",
    "model_mse.compile(loss='mse',optimizer=Adam(learning_rate=0.001),metrics = [RootMeanSquaredError()])\n",
    "# history_mse = model_mse.fit(X_train,Y_train,validation_data=(X_test,Y_test),epochs=10,callbacks=[cp])\n",
    "history_mse = model_mse.fit(X_train,Y_train,validation_data=(X_test,Y_test),epochs=50)"
   ]
  },
  {
   "cell_type": "code",
   "execution_count": 38,
   "metadata": {},
   "outputs": [
    {
     "name": "stdout",
     "output_type": "stream",
     "text": [
      "Epoch 1/50\n",
      "\u001b[1m56/56\u001b[0m \u001b[32m━━━━━━━━━━━━━━━━━━━━\u001b[0m\u001b[37m\u001b[0m \u001b[1m2s\u001b[0m 11ms/step - loss: 0.0589 - root_mean_squared_error: 0.2261 - val_loss: 7.7040e-04 - val_root_mean_squared_error: 0.0278\n",
      "Epoch 2/50\n",
      "\u001b[1m56/56\u001b[0m \u001b[32m━━━━━━━━━━━━━━━━━━━━\u001b[0m\u001b[37m\u001b[0m \u001b[1m0s\u001b[0m 6ms/step - loss: 5.8076e-04 - root_mean_squared_error: 0.0241 - val_loss: 5.1327e-04 - val_root_mean_squared_error: 0.0227\n",
      "Epoch 3/50\n",
      "\u001b[1m56/56\u001b[0m \u001b[32m━━━━━━━━━━━━━━━━━━━━\u001b[0m\u001b[37m\u001b[0m \u001b[1m0s\u001b[0m 6ms/step - loss: 5.4440e-04 - root_mean_squared_error: 0.0233 - val_loss: 5.6595e-04 - val_root_mean_squared_error: 0.0238\n",
      "Epoch 4/50\n",
      "\u001b[1m56/56\u001b[0m \u001b[32m━━━━━━━━━━━━━━━━━━━━\u001b[0m\u001b[37m\u001b[0m \u001b[1m0s\u001b[0m 6ms/step - loss: 5.3032e-04 - root_mean_squared_error: 0.0230 - val_loss: 4.9934e-04 - val_root_mean_squared_error: 0.0223\n",
      "Epoch 5/50\n",
      "\u001b[1m56/56\u001b[0m \u001b[32m━━━━━━━━━━━━━━━━━━━━\u001b[0m\u001b[37m\u001b[0m \u001b[1m0s\u001b[0m 6ms/step - loss: 4.9788e-04 - root_mean_squared_error: 0.0223 - val_loss: 4.8821e-04 - val_root_mean_squared_error: 0.0221\n",
      "Epoch 6/50\n",
      "\u001b[1m56/56\u001b[0m \u001b[32m━━━━━━━━━━━━━━━━━━━━\u001b[0m\u001b[37m\u001b[0m \u001b[1m0s\u001b[0m 6ms/step - loss: 4.5673e-04 - root_mean_squared_error: 0.0214 - val_loss: 4.7590e-04 - val_root_mean_squared_error: 0.0218\n",
      "Epoch 7/50\n",
      "\u001b[1m56/56\u001b[0m \u001b[32m━━━━━━━━━━━━━━━━━━━━\u001b[0m\u001b[37m\u001b[0m \u001b[1m0s\u001b[0m 6ms/step - loss: 4.6124e-04 - root_mean_squared_error: 0.0215 - val_loss: 4.8244e-04 - val_root_mean_squared_error: 0.0220\n",
      "Epoch 8/50\n",
      "\u001b[1m56/56\u001b[0m \u001b[32m━━━━━━━━━━━━━━━━━━━━\u001b[0m\u001b[37m\u001b[0m \u001b[1m0s\u001b[0m 6ms/step - loss: 4.6216e-04 - root_mean_squared_error: 0.0215 - val_loss: 4.3686e-04 - val_root_mean_squared_error: 0.0209\n",
      "Epoch 9/50\n",
      "\u001b[1m56/56\u001b[0m \u001b[32m━━━━━━━━━━━━━━━━━━━━\u001b[0m\u001b[37m\u001b[0m \u001b[1m0s\u001b[0m 6ms/step - loss: 4.4157e-04 - root_mean_squared_error: 0.0210 - val_loss: 4.3677e-04 - val_root_mean_squared_error: 0.0209\n",
      "Epoch 10/50\n",
      "\u001b[1m56/56\u001b[0m \u001b[32m━━━━━━━━━━━━━━━━━━━━\u001b[0m\u001b[37m\u001b[0m \u001b[1m0s\u001b[0m 6ms/step - loss: 4.3577e-04 - root_mean_squared_error: 0.0209 - val_loss: 4.4155e-04 - val_root_mean_squared_error: 0.0210\n",
      "Epoch 11/50\n",
      "\u001b[1m56/56\u001b[0m \u001b[32m━━━━━━━━━━━━━━━━━━━━\u001b[0m\u001b[37m\u001b[0m \u001b[1m0s\u001b[0m 6ms/step - loss: 4.3953e-04 - root_mean_squared_error: 0.0210 - val_loss: 3.9711e-04 - val_root_mean_squared_error: 0.0199\n",
      "Epoch 12/50\n",
      "\u001b[1m56/56\u001b[0m \u001b[32m━━━━━━━━━━━━━━━━━━━━\u001b[0m\u001b[37m\u001b[0m \u001b[1m0s\u001b[0m 6ms/step - loss: 4.3544e-04 - root_mean_squared_error: 0.0209 - val_loss: 3.8839e-04 - val_root_mean_squared_error: 0.0197\n",
      "Epoch 13/50\n",
      "\u001b[1m56/56\u001b[0m \u001b[32m━━━━━━━━━━━━━━━━━━━━\u001b[0m\u001b[37m\u001b[0m \u001b[1m0s\u001b[0m 6ms/step - loss: 3.9035e-04 - root_mean_squared_error: 0.0197 - val_loss: 5.3189e-04 - val_root_mean_squared_error: 0.0231\n",
      "Epoch 14/50\n",
      "\u001b[1m56/56\u001b[0m \u001b[32m━━━━━━━━━━━━━━━━━━━━\u001b[0m\u001b[37m\u001b[0m \u001b[1m0s\u001b[0m 6ms/step - loss: 4.2431e-04 - root_mean_squared_error: 0.0206 - val_loss: 3.6055e-04 - val_root_mean_squared_error: 0.0190\n",
      "Epoch 15/50\n",
      "\u001b[1m56/56\u001b[0m \u001b[32m━━━━━━━━━━━━━━━━━━━━\u001b[0m\u001b[37m\u001b[0m \u001b[1m0s\u001b[0m 6ms/step - loss: 3.4459e-04 - root_mean_squared_error: 0.0186 - val_loss: 3.6544e-04 - val_root_mean_squared_error: 0.0191\n",
      "Epoch 16/50\n",
      "\u001b[1m56/56\u001b[0m \u001b[32m━━━━━━━━━━━━━━━━━━━━\u001b[0m\u001b[37m\u001b[0m \u001b[1m0s\u001b[0m 6ms/step - loss: 3.7277e-04 - root_mean_squared_error: 0.0193 - val_loss: 3.1762e-04 - val_root_mean_squared_error: 0.0178\n",
      "Epoch 17/50\n",
      "\u001b[1m56/56\u001b[0m \u001b[32m━━━━━━━━━━━━━━━━━━━━\u001b[0m\u001b[37m\u001b[0m \u001b[1m0s\u001b[0m 6ms/step - loss: 3.5988e-04 - root_mean_squared_error: 0.0190 - val_loss: 2.9865e-04 - val_root_mean_squared_error: 0.0173\n",
      "Epoch 18/50\n",
      "\u001b[1m56/56\u001b[0m \u001b[32m━━━━━━━━━━━━━━━━━━━━\u001b[0m\u001b[37m\u001b[0m \u001b[1m0s\u001b[0m 6ms/step - loss: 3.0284e-04 - root_mean_squared_error: 0.0174 - val_loss: 3.0693e-04 - val_root_mean_squared_error: 0.0175\n",
      "Epoch 19/50\n",
      "\u001b[1m56/56\u001b[0m \u001b[32m━━━━━━━━━━━━━━━━━━━━\u001b[0m\u001b[37m\u001b[0m \u001b[1m0s\u001b[0m 6ms/step - loss: 2.7680e-04 - root_mean_squared_error: 0.0166 - val_loss: 2.5202e-04 - val_root_mean_squared_error: 0.0159\n",
      "Epoch 20/50\n",
      "\u001b[1m56/56\u001b[0m \u001b[32m━━━━━━━━━━━━━━━━━━━━\u001b[0m\u001b[37m\u001b[0m \u001b[1m0s\u001b[0m 6ms/step - loss: 2.6969e-04 - root_mean_squared_error: 0.0164 - val_loss: 2.4158e-04 - val_root_mean_squared_error: 0.0155\n",
      "Epoch 21/50\n",
      "\u001b[1m56/56\u001b[0m \u001b[32m━━━━━━━━━━━━━━━━━━━━\u001b[0m\u001b[37m\u001b[0m \u001b[1m0s\u001b[0m 6ms/step - loss: 2.6026e-04 - root_mean_squared_error: 0.0161 - val_loss: 2.6902e-04 - val_root_mean_squared_error: 0.0164\n",
      "Epoch 22/50\n",
      "\u001b[1m56/56\u001b[0m \u001b[32m━━━━━━━━━━━━━━━━━━━━\u001b[0m\u001b[37m\u001b[0m \u001b[1m0s\u001b[0m 6ms/step - loss: 2.5025e-04 - root_mean_squared_error: 0.0158 - val_loss: 2.0745e-04 - val_root_mean_squared_error: 0.0144\n",
      "Epoch 23/50\n",
      "\u001b[1m56/56\u001b[0m \u001b[32m━━━━━━━━━━━━━━━━━━━━\u001b[0m\u001b[37m\u001b[0m \u001b[1m0s\u001b[0m 6ms/step - loss: 2.2269e-04 - root_mean_squared_error: 0.0149 - val_loss: 2.1927e-04 - val_root_mean_squared_error: 0.0148\n",
      "Epoch 24/50\n",
      "\u001b[1m56/56\u001b[0m \u001b[32m━━━━━━━━━━━━━━━━━━━━\u001b[0m\u001b[37m\u001b[0m \u001b[1m0s\u001b[0m 6ms/step - loss: 2.1354e-04 - root_mean_squared_error: 0.0146 - val_loss: 2.4520e-04 - val_root_mean_squared_error: 0.0157\n",
      "Epoch 25/50\n",
      "\u001b[1m56/56\u001b[0m \u001b[32m━━━━━━━━━━━━━━━━━━━━\u001b[0m\u001b[37m\u001b[0m \u001b[1m0s\u001b[0m 6ms/step - loss: 1.9707e-04 - root_mean_squared_error: 0.0140 - val_loss: 2.3953e-04 - val_root_mean_squared_error: 0.0155\n",
      "Epoch 26/50\n",
      "\u001b[1m56/56\u001b[0m \u001b[32m━━━━━━━━━━━━━━━━━━━━\u001b[0m\u001b[37m\u001b[0m \u001b[1m0s\u001b[0m 6ms/step - loss: 2.1285e-04 - root_mean_squared_error: 0.0146 - val_loss: 2.5206e-04 - val_root_mean_squared_error: 0.0159\n",
      "Epoch 27/50\n",
      "\u001b[1m56/56\u001b[0m \u001b[32m━━━━━━━━━━━━━━━━━━━━\u001b[0m\u001b[37m\u001b[0m \u001b[1m0s\u001b[0m 6ms/step - loss: 1.9726e-04 - root_mean_squared_error: 0.0140 - val_loss: 3.5432e-04 - val_root_mean_squared_error: 0.0188\n",
      "Epoch 28/50\n",
      "\u001b[1m56/56\u001b[0m \u001b[32m━━━━━━━━━━━━━━━━━━━━\u001b[0m\u001b[37m\u001b[0m \u001b[1m0s\u001b[0m 6ms/step - loss: 2.2580e-04 - root_mean_squared_error: 0.0150 - val_loss: 1.9732e-04 - val_root_mean_squared_error: 0.0140\n",
      "Epoch 29/50\n",
      "\u001b[1m56/56\u001b[0m \u001b[32m━━━━━━━━━━━━━━━━━━━━\u001b[0m\u001b[37m\u001b[0m \u001b[1m0s\u001b[0m 6ms/step - loss: 1.6427e-04 - root_mean_squared_error: 0.0128 - val_loss: 1.4949e-04 - val_root_mean_squared_error: 0.0122\n",
      "Epoch 30/50\n",
      "\u001b[1m56/56\u001b[0m \u001b[32m━━━━━━━━━━━━━━━━━━━━\u001b[0m\u001b[37m\u001b[0m \u001b[1m0s\u001b[0m 6ms/step - loss: 1.6051e-04 - root_mean_squared_error: 0.0127 - val_loss: 1.4198e-04 - val_root_mean_squared_error: 0.0119\n",
      "Epoch 31/50\n",
      "\u001b[1m56/56\u001b[0m \u001b[32m━━━━━━━━━━━━━━━━━━━━\u001b[0m\u001b[37m\u001b[0m \u001b[1m0s\u001b[0m 6ms/step - loss: 2.0843e-04 - root_mean_squared_error: 0.0144 - val_loss: 1.4225e-04 - val_root_mean_squared_error: 0.0119\n",
      "Epoch 32/50\n",
      "\u001b[1m56/56\u001b[0m \u001b[32m━━━━━━━━━━━━━━━━━━━━\u001b[0m\u001b[37m\u001b[0m \u001b[1m0s\u001b[0m 6ms/step - loss: 1.6134e-04 - root_mean_squared_error: 0.0127 - val_loss: 1.9098e-04 - val_root_mean_squared_error: 0.0138\n",
      "Epoch 33/50\n",
      "\u001b[1m56/56\u001b[0m \u001b[32m━━━━━━━━━━━━━━━━━━━━\u001b[0m\u001b[37m\u001b[0m \u001b[1m0s\u001b[0m 6ms/step - loss: 1.7691e-04 - root_mean_squared_error: 0.0133 - val_loss: 1.7708e-04 - val_root_mean_squared_error: 0.0133\n",
      "Epoch 34/50\n",
      "\u001b[1m56/56\u001b[0m \u001b[32m━━━━━━━━━━━━━━━━━━━━\u001b[0m\u001b[37m\u001b[0m \u001b[1m0s\u001b[0m 6ms/step - loss: 1.5600e-04 - root_mean_squared_error: 0.0125 - val_loss: 2.7079e-04 - val_root_mean_squared_error: 0.0165\n",
      "Epoch 35/50\n",
      "\u001b[1m56/56\u001b[0m \u001b[32m━━━━━━━━━━━━━━━━━━━━\u001b[0m\u001b[37m\u001b[0m \u001b[1m0s\u001b[0m 6ms/step - loss: 2.2555e-04 - root_mean_squared_error: 0.0150 - val_loss: 1.6050e-04 - val_root_mean_squared_error: 0.0127\n",
      "Epoch 36/50\n",
      "\u001b[1m56/56\u001b[0m \u001b[32m━━━━━━━━━━━━━━━━━━━━\u001b[0m\u001b[37m\u001b[0m \u001b[1m0s\u001b[0m 6ms/step - loss: 1.5485e-04 - root_mean_squared_error: 0.0124 - val_loss: 1.4858e-04 - val_root_mean_squared_error: 0.0122\n",
      "Epoch 37/50\n",
      "\u001b[1m56/56\u001b[0m \u001b[32m━━━━━━━━━━━━━━━━━━━━\u001b[0m\u001b[37m\u001b[0m \u001b[1m0s\u001b[0m 6ms/step - loss: 1.8970e-04 - root_mean_squared_error: 0.0138 - val_loss: 1.5024e-04 - val_root_mean_squared_error: 0.0123\n",
      "Epoch 38/50\n",
      "\u001b[1m56/56\u001b[0m \u001b[32m━━━━━━━━━━━━━━━━━━━━\u001b[0m\u001b[37m\u001b[0m \u001b[1m0s\u001b[0m 6ms/step - loss: 1.7730e-04 - root_mean_squared_error: 0.0133 - val_loss: 1.3290e-04 - val_root_mean_squared_error: 0.0115\n",
      "Epoch 39/50\n",
      "\u001b[1m56/56\u001b[0m \u001b[32m━━━━━━━━━━━━━━━━━━━━\u001b[0m\u001b[37m\u001b[0m \u001b[1m0s\u001b[0m 6ms/step - loss: 1.6800e-04 - root_mean_squared_error: 0.0130 - val_loss: 1.2118e-04 - val_root_mean_squared_error: 0.0110\n",
      "Epoch 40/50\n",
      "\u001b[1m56/56\u001b[0m \u001b[32m━━━━━━━━━━━━━━━━━━━━\u001b[0m\u001b[37m\u001b[0m \u001b[1m0s\u001b[0m 6ms/step - loss: 1.3084e-04 - root_mean_squared_error: 0.0114 - val_loss: 1.1854e-04 - val_root_mean_squared_error: 0.0109\n",
      "Epoch 41/50\n",
      "\u001b[1m56/56\u001b[0m \u001b[32m━━━━━━━━━━━━━━━━━━━━\u001b[0m\u001b[37m\u001b[0m \u001b[1m0s\u001b[0m 6ms/step - loss: 1.4932e-04 - root_mean_squared_error: 0.0122 - val_loss: 1.3137e-04 - val_root_mean_squared_error: 0.0115\n",
      "Epoch 42/50\n",
      "\u001b[1m56/56\u001b[0m \u001b[32m━━━━━━━━━━━━━━━━━━━━\u001b[0m\u001b[37m\u001b[0m \u001b[1m0s\u001b[0m 6ms/step - loss: 1.6207e-04 - root_mean_squared_error: 0.0127 - val_loss: 1.1512e-04 - val_root_mean_squared_error: 0.0107\n",
      "Epoch 43/50\n",
      "\u001b[1m56/56\u001b[0m \u001b[32m━━━━━━━━━━━━━━━━━━━━\u001b[0m\u001b[37m\u001b[0m \u001b[1m0s\u001b[0m 6ms/step - loss: 1.3053e-04 - root_mean_squared_error: 0.0114 - val_loss: 1.3947e-04 - val_root_mean_squared_error: 0.0118\n",
      "Epoch 44/50\n",
      "\u001b[1m56/56\u001b[0m \u001b[32m━━━━━━━━━━━━━━━━━━━━\u001b[0m\u001b[37m\u001b[0m \u001b[1m0s\u001b[0m 6ms/step - loss: 1.2797e-04 - root_mean_squared_error: 0.0113 - val_loss: 1.1078e-04 - val_root_mean_squared_error: 0.0105\n",
      "Epoch 45/50\n",
      "\u001b[1m56/56\u001b[0m \u001b[32m━━━━━━━━━━━━━━━━━━━━\u001b[0m\u001b[37m\u001b[0m \u001b[1m0s\u001b[0m 6ms/step - loss: 1.3023e-04 - root_mean_squared_error: 0.0114 - val_loss: 1.1075e-04 - val_root_mean_squared_error: 0.0105\n",
      "Epoch 46/50\n",
      "\u001b[1m56/56\u001b[0m \u001b[32m━━━━━━━━━━━━━━━━━━━━\u001b[0m\u001b[37m\u001b[0m \u001b[1m0s\u001b[0m 6ms/step - loss: 1.2692e-04 - root_mean_squared_error: 0.0113 - val_loss: 1.3170e-04 - val_root_mean_squared_error: 0.0115\n",
      "Epoch 47/50\n",
      "\u001b[1m56/56\u001b[0m \u001b[32m━━━━━━━━━━━━━━━━━━━━\u001b[0m\u001b[37m\u001b[0m \u001b[1m0s\u001b[0m 6ms/step - loss: 1.3935e-04 - root_mean_squared_error: 0.0118 - val_loss: 1.8905e-04 - val_root_mean_squared_error: 0.0137\n",
      "Epoch 48/50\n",
      "\u001b[1m56/56\u001b[0m \u001b[32m━━━━━━━━━━━━━━━━━━━━\u001b[0m\u001b[37m\u001b[0m \u001b[1m0s\u001b[0m 6ms/step - loss: 2.2164e-04 - root_mean_squared_error: 0.0149 - val_loss: 1.2924e-04 - val_root_mean_squared_error: 0.0114\n",
      "Epoch 49/50\n",
      "\u001b[1m56/56\u001b[0m \u001b[32m━━━━━━━━━━━━━━━━━━━━\u001b[0m\u001b[37m\u001b[0m \u001b[1m0s\u001b[0m 6ms/step - loss: 1.1977e-04 - root_mean_squared_error: 0.0109 - val_loss: 1.0582e-04 - val_root_mean_squared_error: 0.0103\n",
      "Epoch 50/50\n",
      "\u001b[1m56/56\u001b[0m \u001b[32m━━━━━━━━━━━━━━━━━━━━\u001b[0m\u001b[37m\u001b[0m \u001b[1m0s\u001b[0m 6ms/step - loss: 1.0631e-04 - root_mean_squared_error: 0.0103 - val_loss: 1.5186e-04 - val_root_mean_squared_error: 0.0123\n"
     ]
    }
   ],
   "source": [
    "model_mae = Sequential()\n",
    "model_mae.add(InputLayer(shape = (10,1)))\n",
    "model_mae.add(LSTM(128))\n",
    "model_mae.add(Dense(8,'relu'))\n",
    "model_mae.add(Dense(1,'linear'))\n",
    "\n",
    "# model_mae.summary()\n",
    "# cp = model_maeCheckpoint('output/best_model.weights.h5',save_weights_only=False)\n",
    "# cp = model_maeCheckpoint('output/best_model.keras',save_weights_only=False)\n",
    "model_mae.compile(loss='mse',optimizer=Adam(learning_rate=0.001),metrics = [RootMeanSquaredError()])\n",
    "history_mae = model_mae.fit(X_train,Y_train,validation_data=(X_test,Y_test),epochs=50)"
   ]
  },
  {
   "cell_type": "code",
   "execution_count": 39,
   "metadata": {},
   "outputs": [],
   "source": [
    "import tensorflow as tf\n",
    "import keras.backend as K\n",
    "def custom_loss(y_true, y_pred):\n",
    "    # Extract \"next day's price\" and \"today's price\"\n",
    "    y_true_next = y_true[1:]\n",
    "    y_pred_next = y_pred[1:]\n",
    "    \n",
    "    y_true_tdy = y_true[:-1]\n",
    "    y_pred_tdy = y_pred[:-1]\n",
    "    \n",
    "    y_true_diff = tf.subtract(y_true_next, y_true_tdy)\n",
    "    y_pred_diff = tf.subtract(y_pred_next, y_pred_tdy)\n",
    "    \n",
    "    y_true_move = tf.cast(tf.greater_equal(y_true_diff, 0), tf.float32)\n",
    "    y_pred_move = tf.cast(tf.greater_equal(y_pred_diff, 0), tf.float32)\n",
    "    \n",
    "    direction_mismatch = tf.not_equal(y_true_move, y_pred_move)\n",
    "    \n",
    "    penalty_factor = tf.reduce_mean(tf.abs(y_true_diff)) \n",
    "    penalty = tf.where(direction_mismatch, \n",
    "                       (tf.abs(y_true_diff - y_pred_diff) * penalty_factor), \n",
    "                       tf.zeros_like(y_true_diff))   \n",
    "    # Mean squared error loss\n",
    "    # mse_loss = K.mean(K.square(y_true - y_pred), axis=-1)\n",
    "    mse_loss = tf.reduce_mean(tf.square(y_true - y_pred), axis=-1)\n",
    "    \n",
    "    custom_loss = mse_loss + penalty\n",
    "    \n",
    "    return custom_loss\n"
   ]
  },
  {
   "cell_type": "code",
   "execution_count": 54,
   "metadata": {},
   "outputs": [
    {
     "name": "stdout",
     "output_type": "stream",
     "text": [
      "Epoch 1/50\n",
      "\u001b[1m56/56\u001b[0m \u001b[32m━━━━━━━━━━━━━━━━━━━━\u001b[0m\u001b[37m\u001b[0m \u001b[1m4s\u001b[0m 28ms/step - loss: 0.0689 - root_mean_squared_error: 0.2464 - val_loss: 0.0011 - val_root_mean_squared_error: 0.0299\n",
      "Epoch 2/50\n",
      "\u001b[1m56/56\u001b[0m \u001b[32m━━━━━━━━━━━━━━━━━━━━\u001b[0m\u001b[37m\u001b[0m \u001b[1m1s\u001b[0m 20ms/step - loss: 9.2186e-04 - root_mean_squared_error: 0.0252 - val_loss: 7.8687e-04 - val_root_mean_squared_error: 0.0234\n",
      "Epoch 3/50\n",
      "\u001b[1m56/56\u001b[0m \u001b[32m━━━━━━━━━━━━━━━━━━━━\u001b[0m\u001b[37m\u001b[0m \u001b[1m1s\u001b[0m 21ms/step - loss: 8.1387e-04 - root_mean_squared_error: 0.0227 - val_loss: 7.4332e-04 - val_root_mean_squared_error: 0.0226\n",
      "Epoch 4/50\n",
      "\u001b[1m56/56\u001b[0m \u001b[32m━━━━━━━━━━━━━━━━━━━━\u001b[0m\u001b[37m\u001b[0m \u001b[1m1s\u001b[0m 18ms/step - loss: 7.8668e-04 - root_mean_squared_error: 0.0224 - val_loss: 6.9233e-04 - val_root_mean_squared_error: 0.0215\n",
      "Epoch 5/50\n",
      "\u001b[1m56/56\u001b[0m \u001b[32m━━━━━━━━━━━━━━━━━━━━\u001b[0m\u001b[37m\u001b[0m \u001b[1m1s\u001b[0m 17ms/step - loss: 7.5968e-04 - root_mean_squared_error: 0.0216 - val_loss: 6.5841e-04 - val_root_mean_squared_error: 0.0209\n",
      "Epoch 6/50\n",
      "\u001b[1m56/56\u001b[0m \u001b[32m━━━━━━━━━━━━━━━━━━━━\u001b[0m\u001b[37m\u001b[0m \u001b[1m1s\u001b[0m 17ms/step - loss: 7.2457e-04 - root_mean_squared_error: 0.0211 - val_loss: 7.6278e-04 - val_root_mean_squared_error: 0.0237\n",
      "Epoch 7/50\n",
      "\u001b[1m56/56\u001b[0m \u001b[32m━━━━━━━━━━━━━━━━━━━━\u001b[0m\u001b[37m\u001b[0m \u001b[1m1s\u001b[0m 18ms/step - loss: 7.1152e-04 - root_mean_squared_error: 0.0206 - val_loss: 5.6926e-04 - val_root_mean_squared_error: 0.0194\n",
      "Epoch 8/50\n",
      "\u001b[1m56/56\u001b[0m \u001b[32m━━━━━━━━━━━━━━━━━━━━\u001b[0m\u001b[37m\u001b[0m \u001b[1m1s\u001b[0m 17ms/step - loss: 6.8074e-04 - root_mean_squared_error: 0.0196 - val_loss: 5.7624e-04 - val_root_mean_squared_error: 0.0202\n",
      "Epoch 9/50\n",
      "\u001b[1m56/56\u001b[0m \u001b[32m━━━━━━━━━━━━━━━━━━━━\u001b[0m\u001b[37m\u001b[0m \u001b[1m1s\u001b[0m 17ms/step - loss: 6.0899e-04 - root_mean_squared_error: 0.0189 - val_loss: 4.6104e-04 - val_root_mean_squared_error: 0.0185\n",
      "Epoch 10/50\n",
      "\u001b[1m56/56\u001b[0m \u001b[32m━━━━━━━━━━━━━━━━━━━━\u001b[0m\u001b[37m\u001b[0m \u001b[1m1s\u001b[0m 17ms/step - loss: 5.8355e-04 - root_mean_squared_error: 0.0182 - val_loss: 4.7571e-04 - val_root_mean_squared_error: 0.0191\n",
      "Epoch 11/50\n",
      "\u001b[1m56/56\u001b[0m \u001b[32m━━━━━━━━━━━━━━━━━━━━\u001b[0m\u001b[37m\u001b[0m \u001b[1m1s\u001b[0m 17ms/step - loss: 4.4000e-04 - root_mean_squared_error: 0.0169 - val_loss: 3.6742e-04 - val_root_mean_squared_error: 0.0162\n",
      "Epoch 12/50\n",
      "\u001b[1m56/56\u001b[0m \u001b[32m━━━━━━━━━━━━━━━━━━━━\u001b[0m\u001b[37m\u001b[0m \u001b[1m1s\u001b[0m 11ms/step - loss: 4.0354e-04 - root_mean_squared_error: 0.0167 - val_loss: 3.7045e-04 - val_root_mean_squared_error: 0.0165\n",
      "Epoch 13/50\n",
      "\u001b[1m56/56\u001b[0m \u001b[32m━━━━━━━━━━━━━━━━━━━━\u001b[0m\u001b[37m\u001b[0m \u001b[1m1s\u001b[0m 12ms/step - loss: 3.8158e-04 - root_mean_squared_error: 0.0167 - val_loss: 2.9848e-04 - val_root_mean_squared_error: 0.0149\n",
      "Epoch 14/50\n",
      "\u001b[1m56/56\u001b[0m \u001b[32m━━━━━━━━━━━━━━━━━━━━\u001b[0m\u001b[37m\u001b[0m \u001b[1m1s\u001b[0m 14ms/step - loss: 3.7956e-04 - root_mean_squared_error: 0.0165 - val_loss: 4.0817e-04 - val_root_mean_squared_error: 0.0182\n",
      "Epoch 15/50\n",
      "\u001b[1m56/56\u001b[0m \u001b[32m━━━━━━━━━━━━━━━━━━━━\u001b[0m\u001b[37m\u001b[0m \u001b[1m1s\u001b[0m 17ms/step - loss: 3.3171e-04 - root_mean_squared_error: 0.0151 - val_loss: 2.3620e-04 - val_root_mean_squared_error: 0.0129\n",
      "Epoch 16/50\n",
      "\u001b[1m56/56\u001b[0m \u001b[32m━━━━━━━━━━━━━━━━━━━━\u001b[0m\u001b[37m\u001b[0m \u001b[1m1s\u001b[0m 15ms/step - loss: 3.1953e-04 - root_mean_squared_error: 0.0137 - val_loss: 2.3303e-04 - val_root_mean_squared_error: 0.0128\n",
      "Epoch 17/50\n",
      "\u001b[1m56/56\u001b[0m \u001b[32m━━━━━━━━━━━━━━━━━━━━\u001b[0m\u001b[37m\u001b[0m \u001b[1m1s\u001b[0m 12ms/step - loss: 2.8057e-04 - root_mean_squared_error: 0.0119 - val_loss: 2.3014e-04 - val_root_mean_squared_error: 0.0136\n",
      "Epoch 18/50\n",
      "\u001b[1m56/56\u001b[0m \u001b[32m━━━━━━━━━━━━━━━━━━━━\u001b[0m\u001b[37m\u001b[0m \u001b[1m1s\u001b[0m 17ms/step - loss: 2.1087e-04 - root_mean_squared_error: 0.0126 - val_loss: 3.8889e-04 - val_root_mean_squared_error: 0.0185\n",
      "Epoch 19/50\n",
      "\u001b[1m56/56\u001b[0m \u001b[32m━━━━━━━━━━━━━━━━━━━━\u001b[0m\u001b[37m\u001b[0m \u001b[1m1s\u001b[0m 17ms/step - loss: 3.1157e-04 - root_mean_squared_error: 0.0142 - val_loss: 2.1955e-04 - val_root_mean_squared_error: 0.0138\n",
      "Epoch 20/50\n",
      "\u001b[1m56/56\u001b[0m \u001b[32m━━━━━━━━━━━━━━━━━━━━\u001b[0m\u001b[37m\u001b[0m \u001b[1m1s\u001b[0m 18ms/step - loss: 2.7728e-04 - root_mean_squared_error: 0.0124 - val_loss: 1.7931e-04 - val_root_mean_squared_error: 0.0122\n",
      "Epoch 21/50\n",
      "\u001b[1m56/56\u001b[0m \u001b[32m━━━━━━━━━━━━━━━━━━━━\u001b[0m\u001b[37m\u001b[0m \u001b[1m1s\u001b[0m 17ms/step - loss: 1.7427e-04 - root_mean_squared_error: 0.0114 - val_loss: 1.4287e-04 - val_root_mean_squared_error: 0.0106\n",
      "Epoch 22/50\n",
      "\u001b[1m56/56\u001b[0m \u001b[32m━━━━━━━━━━━━━━━━━━━━\u001b[0m\u001b[37m\u001b[0m \u001b[1m1s\u001b[0m 18ms/step - loss: 2.2171e-04 - root_mean_squared_error: 0.0110 - val_loss: 2.9486e-04 - val_root_mean_squared_error: 0.0163\n",
      "Epoch 23/50\n",
      "\u001b[1m56/56\u001b[0m \u001b[32m━━━━━━━━━━━━━━━━━━━━\u001b[0m\u001b[37m\u001b[0m \u001b[1m1s\u001b[0m 17ms/step - loss: 3.0451e-04 - root_mean_squared_error: 0.0154 - val_loss: 1.3838e-04 - val_root_mean_squared_error: 0.0104\n",
      "Epoch 24/50\n",
      "\u001b[1m56/56\u001b[0m \u001b[32m━━━━━━━━━━━━━━━━━━━━\u001b[0m\u001b[37m\u001b[0m \u001b[1m1s\u001b[0m 17ms/step - loss: 1.8530e-04 - root_mean_squared_error: 0.0112 - val_loss: 1.3901e-04 - val_root_mean_squared_error: 0.0105\n",
      "Epoch 25/50\n",
      "\u001b[1m56/56\u001b[0m \u001b[32m━━━━━━━━━━━━━━━━━━━━\u001b[0m\u001b[37m\u001b[0m \u001b[1m1s\u001b[0m 17ms/step - loss: 2.2876e-04 - root_mean_squared_error: 0.0116 - val_loss: 1.3876e-04 - val_root_mean_squared_error: 0.0105\n",
      "Epoch 26/50\n",
      "\u001b[1m56/56\u001b[0m \u001b[32m━━━━━━━━━━━━━━━━━━━━\u001b[0m\u001b[37m\u001b[0m \u001b[1m1s\u001b[0m 17ms/step - loss: 1.9098e-04 - root_mean_squared_error: 0.0116 - val_loss: 1.4205e-04 - val_root_mean_squared_error: 0.0106\n",
      "Epoch 27/50\n",
      "\u001b[1m56/56\u001b[0m \u001b[32m━━━━━━━━━━━━━━━━━━━━\u001b[0m\u001b[37m\u001b[0m \u001b[1m1s\u001b[0m 17ms/step - loss: 1.8663e-04 - root_mean_squared_error: 0.0106 - val_loss: 1.5965e-04 - val_root_mean_squared_error: 0.0114\n",
      "Epoch 28/50\n",
      "\u001b[1m56/56\u001b[0m \u001b[32m━━━━━━━━━━━━━━━━━━━━\u001b[0m\u001b[37m\u001b[0m \u001b[1m1s\u001b[0m 17ms/step - loss: 2.1208e-04 - root_mean_squared_error: 0.0119 - val_loss: 1.3079e-04 - val_root_mean_squared_error: 0.0105\n",
      "Epoch 29/50\n",
      "\u001b[1m56/56\u001b[0m \u001b[32m━━━━━━━━━━━━━━━━━━━━\u001b[0m\u001b[37m\u001b[0m \u001b[1m1s\u001b[0m 17ms/step - loss: 1.8939e-04 - root_mean_squared_error: 0.0109 - val_loss: 1.3491e-04 - val_root_mean_squared_error: 0.0106\n",
      "Epoch 30/50\n",
      "\u001b[1m56/56\u001b[0m \u001b[32m━━━━━━━━━━━━━━━━━━━━\u001b[0m\u001b[37m\u001b[0m \u001b[1m1s\u001b[0m 17ms/step - loss: 2.1779e-04 - root_mean_squared_error: 0.0108 - val_loss: 1.4549e-04 - val_root_mean_squared_error: 0.0111\n",
      "Epoch 31/50\n",
      "\u001b[1m56/56\u001b[0m \u001b[32m━━━━━━━━━━━━━━━━━━━━\u001b[0m\u001b[37m\u001b[0m \u001b[1m1s\u001b[0m 17ms/step - loss: 1.9058e-04 - root_mean_squared_error: 0.0108 - val_loss: 1.2945e-04 - val_root_mean_squared_error: 0.0104\n",
      "Epoch 32/50\n",
      "\u001b[1m56/56\u001b[0m \u001b[32m━━━━━━━━━━━━━━━━━━━━\u001b[0m\u001b[37m\u001b[0m \u001b[1m1s\u001b[0m 17ms/step - loss: 1.9486e-04 - root_mean_squared_error: 0.0121 - val_loss: 1.1960e-04 - val_root_mean_squared_error: 0.0099\n",
      "Epoch 33/50\n",
      "\u001b[1m56/56\u001b[0m \u001b[32m━━━━━━━━━━━━━━━━━━━━\u001b[0m\u001b[37m\u001b[0m \u001b[1m1s\u001b[0m 17ms/step - loss: 1.6348e-04 - root_mean_squared_error: 0.0109 - val_loss: 1.3471e-04 - val_root_mean_squared_error: 0.0106\n",
      "Epoch 34/50\n",
      "\u001b[1m56/56\u001b[0m \u001b[32m━━━━━━━━━━━━━━━━━━━━\u001b[0m\u001b[37m\u001b[0m \u001b[1m1s\u001b[0m 17ms/step - loss: 1.7410e-04 - root_mean_squared_error: 0.0103 - val_loss: 1.1571e-04 - val_root_mean_squared_error: 0.0097\n",
      "Epoch 35/50\n",
      "\u001b[1m56/56\u001b[0m \u001b[32m━━━━━━━━━━━━━━━━━━━━\u001b[0m\u001b[37m\u001b[0m \u001b[1m1s\u001b[0m 17ms/step - loss: 1.5102e-04 - root_mean_squared_error: 0.0101 - val_loss: 1.1472e-04 - val_root_mean_squared_error: 0.0096\n",
      "Epoch 36/50\n",
      "\u001b[1m56/56\u001b[0m \u001b[32m━━━━━━━━━━━━━━━━━━━━\u001b[0m\u001b[37m\u001b[0m \u001b[1m1s\u001b[0m 17ms/step - loss: 1.6683e-04 - root_mean_squared_error: 0.0097 - val_loss: 1.1670e-04 - val_root_mean_squared_error: 0.0097\n",
      "Epoch 37/50\n",
      "\u001b[1m56/56\u001b[0m \u001b[32m━━━━━━━━━━━━━━━━━━━━\u001b[0m\u001b[37m\u001b[0m \u001b[1m1s\u001b[0m 17ms/step - loss: 2.0457e-04 - root_mean_squared_error: 0.0120 - val_loss: 1.6489e-04 - val_root_mean_squared_error: 0.0120\n",
      "Epoch 38/50\n",
      "\u001b[1m56/56\u001b[0m \u001b[32m━━━━━━━━━━━━━━━━━━━━\u001b[0m\u001b[37m\u001b[0m \u001b[1m1s\u001b[0m 18ms/step - loss: 2.1191e-04 - root_mean_squared_error: 0.0115 - val_loss: 2.1746e-04 - val_root_mean_squared_error: 0.0140\n",
      "Epoch 39/50\n",
      "\u001b[1m56/56\u001b[0m \u001b[32m━━━━━━━━━━━━━━━━━━━━\u001b[0m\u001b[37m\u001b[0m \u001b[1m1s\u001b[0m 17ms/step - loss: 2.1084e-04 - root_mean_squared_error: 0.0106 - val_loss: 1.1275e-04 - val_root_mean_squared_error: 0.0095\n",
      "Epoch 40/50\n",
      "\u001b[1m56/56\u001b[0m \u001b[32m━━━━━━━━━━━━━━━━━━━━\u001b[0m\u001b[37m\u001b[0m \u001b[1m1s\u001b[0m 18ms/step - loss: 1.6430e-04 - root_mean_squared_error: 0.0100 - val_loss: 1.0932e-04 - val_root_mean_squared_error: 0.0093\n",
      "Epoch 41/50\n",
      "\u001b[1m56/56\u001b[0m \u001b[32m━━━━━━━━━━━━━━━━━━━━\u001b[0m\u001b[37m\u001b[0m \u001b[1m1s\u001b[0m 17ms/step - loss: 1.8919e-04 - root_mean_squared_error: 0.0103 - val_loss: 2.2494e-04 - val_root_mean_squared_error: 0.0142\n",
      "Epoch 42/50\n",
      "\u001b[1m56/56\u001b[0m \u001b[32m━━━━━━━━━━━━━━━━━━━━\u001b[0m\u001b[37m\u001b[0m \u001b[1m1s\u001b[0m 17ms/step - loss: 1.6675e-04 - root_mean_squared_error: 0.0117 - val_loss: 1.6096e-04 - val_root_mean_squared_error: 0.0118\n",
      "Epoch 43/50\n",
      "\u001b[1m56/56\u001b[0m \u001b[32m━━━━━━━━━━━━━━━━━━━━\u001b[0m\u001b[37m\u001b[0m \u001b[1m1s\u001b[0m 18ms/step - loss: 1.8771e-04 - root_mean_squared_error: 0.0114 - val_loss: 1.8514e-04 - val_root_mean_squared_error: 0.0128\n",
      "Epoch 44/50\n",
      "\u001b[1m56/56\u001b[0m \u001b[32m━━━━━━━━━━━━━━━━━━━━\u001b[0m\u001b[37m\u001b[0m \u001b[1m1s\u001b[0m 18ms/step - loss: 2.0570e-04 - root_mean_squared_error: 0.0118 - val_loss: 1.0295e-04 - val_root_mean_squared_error: 0.0090\n",
      "Epoch 45/50\n",
      "\u001b[1m56/56\u001b[0m \u001b[32m━━━━━━━━━━━━━━━━━━━━\u001b[0m\u001b[37m\u001b[0m \u001b[1m1s\u001b[0m 17ms/step - loss: 1.5193e-04 - root_mean_squared_error: 0.0098 - val_loss: 1.0329e-04 - val_root_mean_squared_error: 0.0090\n",
      "Epoch 46/50\n",
      "\u001b[1m56/56\u001b[0m \u001b[32m━━━━━━━━━━━━━━━━━━━━\u001b[0m\u001b[37m\u001b[0m \u001b[1m1s\u001b[0m 17ms/step - loss: 1.4724e-04 - root_mean_squared_error: 0.0094 - val_loss: 1.2918e-04 - val_root_mean_squared_error: 0.0103\n",
      "Epoch 47/50\n",
      "\u001b[1m56/56\u001b[0m \u001b[32m━━━━━━━━━━━━━━━━━━━━\u001b[0m\u001b[37m\u001b[0m \u001b[1m1s\u001b[0m 18ms/step - loss: 1.5759e-04 - root_mean_squared_error: 0.0105 - val_loss: 1.2041e-04 - val_root_mean_squared_error: 0.0099\n",
      "Epoch 48/50\n",
      "\u001b[1m56/56\u001b[0m \u001b[32m━━━━━━━━━━━━━━━━━━━━\u001b[0m\u001b[37m\u001b[0m \u001b[1m1s\u001b[0m 17ms/step - loss: 1.3762e-04 - root_mean_squared_error: 0.0093 - val_loss: 1.7449e-04 - val_root_mean_squared_error: 0.0123\n",
      "Epoch 49/50\n",
      "\u001b[1m56/56\u001b[0m \u001b[32m━━━━━━━━━━━━━━━━━━━━\u001b[0m\u001b[37m\u001b[0m \u001b[1m1s\u001b[0m 17ms/step - loss: 1.5906e-04 - root_mean_squared_error: 0.0102 - val_loss: 1.1321e-04 - val_root_mean_squared_error: 0.0095\n",
      "Epoch 50/50\n",
      "\u001b[1m56/56\u001b[0m \u001b[32m━━━━━━━━━━━━━━━━━━━━\u001b[0m\u001b[37m\u001b[0m \u001b[1m1s\u001b[0m 17ms/step - loss: 1.2194e-04 - root_mean_squared_error: 0.0097 - val_loss: 1.3529e-04 - val_root_mean_squared_error: 0.0106\n"
     ]
    }
   ],
   "source": [
    "model_custom = Sequential()\n",
    "model_custom.add(InputLayer(shape = (10,1)))\n",
    "model_custom.add(LSTM(128))\n",
    "model_custom.add(Dense(8,'relu'))\n",
    "model_custom.add(Dense(1,'linear'))\n",
    "\n",
    "model_custom.compile(loss=custom_loss,optimizer=Adam(learning_rate=0.001),metrics = [RootMeanSquaredError()])\n",
    "# model_custom.compile(loss=custom_loss,optimizer=Adam(learning_rate=0.0001),metrics = ['accuracy'])\n",
    "\n",
    "history_custom = model_custom.fit(X_train,Y_train,validation_data=(X_test,Y_test),epochs=50)"
   ]
  },
  {
   "cell_type": "code",
   "execution_count": 40,
   "metadata": {},
   "outputs": [
    {
     "name": "stdout",
     "output_type": "stream",
     "text": [
      "Epoch 1/50\n",
      "\u001b[1m56/56\u001b[0m \u001b[32m━━━━━━━━━━━━━━━━━━━━\u001b[0m\u001b[37m\u001b[0m \u001b[1m1s\u001b[0m 8ms/step - loss: 0.0364 - root_mean_squared_error: 0.2522 - val_loss: 2.7324e-04 - val_root_mean_squared_error: 0.0234\n",
      "Epoch 2/50\n",
      "\u001b[1m56/56\u001b[0m \u001b[32m━━━━━━━━━━━━━━━━━━━━\u001b[0m\u001b[37m\u001b[0m \u001b[1m0s\u001b[0m 6ms/step - loss: 2.7875e-04 - root_mean_squared_error: 0.0236 - val_loss: 2.4370e-04 - val_root_mean_squared_error: 0.0221\n",
      "Epoch 3/50\n",
      "\u001b[1m56/56\u001b[0m \u001b[32m━━━━━━━━━━━━━━━━━━━━\u001b[0m\u001b[37m\u001b[0m \u001b[1m0s\u001b[0m 6ms/step - loss: 2.5139e-04 - root_mean_squared_error: 0.0224 - val_loss: 2.4696e-04 - val_root_mean_squared_error: 0.0222\n",
      "Epoch 4/50\n",
      "\u001b[1m56/56\u001b[0m \u001b[32m━━━━━━━━━━━━━━━━━━━━\u001b[0m\u001b[37m\u001b[0m \u001b[1m0s\u001b[0m 6ms/step - loss: 2.4989e-04 - root_mean_squared_error: 0.0224 - val_loss: 2.2839e-04 - val_root_mean_squared_error: 0.0214\n",
      "Epoch 5/50\n",
      "\u001b[1m56/56\u001b[0m \u001b[32m━━━━━━━━━━━━━━━━━━━━\u001b[0m\u001b[37m\u001b[0m \u001b[1m0s\u001b[0m 6ms/step - loss: 2.2695e-04 - root_mean_squared_error: 0.0213 - val_loss: 2.1713e-04 - val_root_mean_squared_error: 0.0208\n",
      "Epoch 6/50\n",
      "\u001b[1m56/56\u001b[0m \u001b[32m━━━━━━━━━━━━━━━━━━━━\u001b[0m\u001b[37m\u001b[0m \u001b[1m0s\u001b[0m 6ms/step - loss: 2.1043e-04 - root_mean_squared_error: 0.0205 - val_loss: 2.0028e-04 - val_root_mean_squared_error: 0.0200\n",
      "Epoch 7/50\n",
      "\u001b[1m56/56\u001b[0m \u001b[32m━━━━━━━━━━━━━━━━━━━━\u001b[0m\u001b[37m\u001b[0m \u001b[1m0s\u001b[0m 6ms/step - loss: 1.9825e-04 - root_mean_squared_error: 0.0199 - val_loss: 2.4761e-04 - val_root_mean_squared_error: 0.0223\n",
      "Epoch 8/50\n",
      "\u001b[1m56/56\u001b[0m \u001b[32m━━━━━━━━━━━━━━━━━━━━\u001b[0m\u001b[37m\u001b[0m \u001b[1m0s\u001b[0m 6ms/step - loss: 2.0467e-04 - root_mean_squared_error: 0.0202 - val_loss: 1.6593e-04 - val_root_mean_squared_error: 0.0182\n",
      "Epoch 9/50\n",
      "\u001b[1m56/56\u001b[0m \u001b[32m━━━━━━━━━━━━━━━━━━━━\u001b[0m\u001b[37m\u001b[0m \u001b[1m0s\u001b[0m 6ms/step - loss: 1.7011e-04 - root_mean_squared_error: 0.0184 - val_loss: 1.5168e-04 - val_root_mean_squared_error: 0.0174\n",
      "Epoch 10/50\n",
      "\u001b[1m56/56\u001b[0m \u001b[32m━━━━━━━━━━━━━━━━━━━━\u001b[0m\u001b[37m\u001b[0m \u001b[1m0s\u001b[0m 6ms/step - loss: 1.6173e-04 - root_mean_squared_error: 0.0180 - val_loss: 1.6276e-04 - val_root_mean_squared_error: 0.0180\n",
      "Epoch 11/50\n",
      "\u001b[1m56/56\u001b[0m \u001b[32m━━━━━━━━━━━━━━━━━━━━\u001b[0m\u001b[37m\u001b[0m \u001b[1m0s\u001b[0m 6ms/step - loss: 1.5440e-04 - root_mean_squared_error: 0.0176 - val_loss: 1.7010e-04 - val_root_mean_squared_error: 0.0184\n",
      "Epoch 12/50\n",
      "\u001b[1m56/56\u001b[0m \u001b[32m━━━━━━━━━━━━━━━━━━━━\u001b[0m\u001b[37m\u001b[0m \u001b[1m0s\u001b[0m 6ms/step - loss: 1.4634e-04 - root_mean_squared_error: 0.0171 - val_loss: 1.1184e-04 - val_root_mean_squared_error: 0.0150\n",
      "Epoch 13/50\n",
      "\u001b[1m56/56\u001b[0m \u001b[32m━━━━━━━━━━━━━━━━━━━━\u001b[0m\u001b[37m\u001b[0m \u001b[1m0s\u001b[0m 6ms/step - loss: 1.1702e-04 - root_mean_squared_error: 0.0153 - val_loss: 9.3847e-05 - val_root_mean_squared_error: 0.0137\n",
      "Epoch 14/50\n",
      "\u001b[1m56/56\u001b[0m \u001b[32m━━━━━━━━━━━━━━━━━━━━\u001b[0m\u001b[37m\u001b[0m \u001b[1m0s\u001b[0m 6ms/step - loss: 9.6673e-05 - root_mean_squared_error: 0.0139 - val_loss: 2.8234e-04 - val_root_mean_squared_error: 0.0238\n",
      "Epoch 15/50\n",
      "\u001b[1m56/56\u001b[0m \u001b[32m━━━━━━━━━━━━━━━━━━━━\u001b[0m\u001b[37m\u001b[0m \u001b[1m0s\u001b[0m 6ms/step - loss: 1.5338e-04 - root_mean_squared_error: 0.0174 - val_loss: 1.7425e-04 - val_root_mean_squared_error: 0.0187\n",
      "Epoch 16/50\n",
      "\u001b[1m56/56\u001b[0m \u001b[32m━━━━━━━━━━━━━━━━━━━━\u001b[0m\u001b[37m\u001b[0m \u001b[1m0s\u001b[0m 6ms/step - loss: 1.0581e-04 - root_mean_squared_error: 0.0145 - val_loss: 8.2730e-05 - val_root_mean_squared_error: 0.0129\n",
      "Epoch 17/50\n",
      "\u001b[1m56/56\u001b[0m \u001b[32m━━━━━━━━━━━━━━━━━━━━\u001b[0m\u001b[37m\u001b[0m \u001b[1m0s\u001b[0m 6ms/step - loss: 8.3604e-05 - root_mean_squared_error: 0.0129 - val_loss: 1.0283e-04 - val_root_mean_squared_error: 0.0143\n",
      "Epoch 18/50\n",
      "\u001b[1m56/56\u001b[0m \u001b[32m━━━━━━━━━━━━━━━━━━━━\u001b[0m\u001b[37m\u001b[0m \u001b[1m0s\u001b[0m 6ms/step - loss: 8.5464e-05 - root_mean_squared_error: 0.0131 - val_loss: 7.4849e-05 - val_root_mean_squared_error: 0.0122\n",
      "Epoch 19/50\n",
      "\u001b[1m56/56\u001b[0m \u001b[32m━━━━━━━━━━━━━━━━━━━━\u001b[0m\u001b[37m\u001b[0m \u001b[1m0s\u001b[0m 6ms/step - loss: 6.4288e-05 - root_mean_squared_error: 0.0113 - val_loss: 6.4844e-05 - val_root_mean_squared_error: 0.0114\n",
      "Epoch 20/50\n",
      "\u001b[1m56/56\u001b[0m \u001b[32m━━━━━━━━━━━━━━━━━━━━\u001b[0m\u001b[37m\u001b[0m \u001b[1m0s\u001b[0m 6ms/step - loss: 6.3101e-05 - root_mean_squared_error: 0.0112 - val_loss: 5.3799e-05 - val_root_mean_squared_error: 0.0104\n",
      "Epoch 21/50\n",
      "\u001b[1m56/56\u001b[0m \u001b[32m━━━━━━━━━━━━━━━━━━━━\u001b[0m\u001b[37m\u001b[0m \u001b[1m0s\u001b[0m 6ms/step - loss: 7.4742e-05 - root_mean_squared_error: 0.0122 - val_loss: 1.8080e-04 - val_root_mean_squared_error: 0.0190\n",
      "Epoch 22/50\n",
      "\u001b[1m56/56\u001b[0m \u001b[32m━━━━━━━━━━━━━━━━━━━━\u001b[0m\u001b[37m\u001b[0m \u001b[1m0s\u001b[0m 6ms/step - loss: 1.0843e-04 - root_mean_squared_error: 0.0146 - val_loss: 5.1344e-05 - val_root_mean_squared_error: 0.0101\n",
      "Epoch 23/50\n",
      "\u001b[1m56/56\u001b[0m \u001b[32m━━━━━━━━━━━━━━━━━━━━\u001b[0m\u001b[37m\u001b[0m \u001b[1m0s\u001b[0m 6ms/step - loss: 5.6675e-05 - root_mean_squared_error: 0.0106 - val_loss: 6.6469e-05 - val_root_mean_squared_error: 0.0115\n",
      "Epoch 24/50\n",
      "\u001b[1m56/56\u001b[0m \u001b[32m━━━━━━━━━━━━━━━━━━━━\u001b[0m\u001b[37m\u001b[0m \u001b[1m0s\u001b[0m 6ms/step - loss: 6.0785e-05 - root_mean_squared_error: 0.0110 - val_loss: 6.6392e-05 - val_root_mean_squared_error: 0.0115\n",
      "Epoch 25/50\n",
      "\u001b[1m56/56\u001b[0m \u001b[32m━━━━━━━━━━━━━━━━━━━━\u001b[0m\u001b[37m\u001b[0m \u001b[1m0s\u001b[0m 6ms/step - loss: 6.1724e-05 - root_mean_squared_error: 0.0111 - val_loss: 5.2231e-05 - val_root_mean_squared_error: 0.0102\n",
      "Epoch 26/50\n",
      "\u001b[1m56/56\u001b[0m \u001b[32m━━━━━━━━━━━━━━━━━━━━\u001b[0m\u001b[37m\u001b[0m \u001b[1m0s\u001b[0m 6ms/step - loss: 5.6972e-05 - root_mean_squared_error: 0.0107 - val_loss: 4.6365e-05 - val_root_mean_squared_error: 0.0096\n",
      "Epoch 27/50\n",
      "\u001b[1m56/56\u001b[0m \u001b[32m━━━━━━━━━━━━━━━━━━━━\u001b[0m\u001b[37m\u001b[0m \u001b[1m0s\u001b[0m 6ms/step - loss: 7.9818e-05 - root_mean_squared_error: 0.0126 - val_loss: 4.7347e-05 - val_root_mean_squared_error: 0.0097\n",
      "Epoch 28/50\n",
      "\u001b[1m56/56\u001b[0m \u001b[32m━━━━━━━━━━━━━━━━━━━━\u001b[0m\u001b[37m\u001b[0m \u001b[1m0s\u001b[0m 6ms/step - loss: 7.1898e-05 - root_mean_squared_error: 0.0120 - val_loss: 4.5608e-05 - val_root_mean_squared_error: 0.0096\n",
      "Epoch 29/50\n",
      "\u001b[1m56/56\u001b[0m \u001b[32m━━━━━━━━━━━━━━━━━━━━\u001b[0m\u001b[37m\u001b[0m \u001b[1m0s\u001b[0m 6ms/step - loss: 5.4566e-05 - root_mean_squared_error: 0.0104 - val_loss: 4.4134e-05 - val_root_mean_squared_error: 0.0094\n",
      "Epoch 30/50\n",
      "\u001b[1m56/56\u001b[0m \u001b[32m━━━━━━━━━━━━━━━━━━━━\u001b[0m\u001b[37m\u001b[0m \u001b[1m0s\u001b[0m 6ms/step - loss: 6.5372e-05 - root_mean_squared_error: 0.0114 - val_loss: 4.3795e-05 - val_root_mean_squared_error: 0.0094\n",
      "Epoch 31/50\n",
      "\u001b[1m56/56\u001b[0m \u001b[32m━━━━━━━━━━━━━━━━━━━━\u001b[0m\u001b[37m\u001b[0m \u001b[1m0s\u001b[0m 6ms/step - loss: 5.1104e-05 - root_mean_squared_error: 0.0101 - val_loss: 1.3231e-04 - val_root_mean_squared_error: 0.0163\n",
      "Epoch 32/50\n",
      "\u001b[1m56/56\u001b[0m \u001b[32m━━━━━━━━━━━━━━━━━━━━\u001b[0m\u001b[37m\u001b[0m \u001b[1m0s\u001b[0m 6ms/step - loss: 1.0320e-04 - root_mean_squared_error: 0.0143 - val_loss: 6.9426e-05 - val_root_mean_squared_error: 0.0118\n",
      "Epoch 33/50\n",
      "\u001b[1m56/56\u001b[0m \u001b[32m━━━━━━━━━━━━━━━━━━━━\u001b[0m\u001b[37m\u001b[0m \u001b[1m0s\u001b[0m 6ms/step - loss: 5.5913e-05 - root_mean_squared_error: 0.0106 - val_loss: 4.7776e-05 - val_root_mean_squared_error: 0.0098\n",
      "Epoch 34/50\n",
      "\u001b[1m56/56\u001b[0m \u001b[32m━━━━━━━━━━━━━━━━━━━━\u001b[0m\u001b[37m\u001b[0m \u001b[1m0s\u001b[0m 6ms/step - loss: 5.0952e-05 - root_mean_squared_error: 0.0101 - val_loss: 5.8596e-05 - val_root_mean_squared_error: 0.0108\n",
      "Epoch 35/50\n",
      "\u001b[1m56/56\u001b[0m \u001b[32m━━━━━━━━━━━━━━━━━━━━\u001b[0m\u001b[37m\u001b[0m \u001b[1m0s\u001b[0m 6ms/step - loss: 4.8976e-05 - root_mean_squared_error: 0.0099 - val_loss: 4.1607e-05 - val_root_mean_squared_error: 0.0091\n",
      "Epoch 36/50\n",
      "\u001b[1m56/56\u001b[0m \u001b[32m━━━━━━━━━━━━━━━━━━━━\u001b[0m\u001b[37m\u001b[0m \u001b[1m0s\u001b[0m 6ms/step - loss: 6.3681e-05 - root_mean_squared_error: 0.0112 - val_loss: 8.9838e-05 - val_root_mean_squared_error: 0.0134\n",
      "Epoch 37/50\n",
      "\u001b[1m56/56\u001b[0m \u001b[32m━━━━━━━━━━━━━━━━━━━━\u001b[0m\u001b[37m\u001b[0m \u001b[1m0s\u001b[0m 6ms/step - loss: 5.5177e-05 - root_mean_squared_error: 0.0105 - val_loss: 4.1323e-05 - val_root_mean_squared_error: 0.0091\n",
      "Epoch 38/50\n",
      "\u001b[1m56/56\u001b[0m \u001b[32m━━━━━━━━━━━━━━━━━━━━\u001b[0m\u001b[37m\u001b[0m \u001b[1m0s\u001b[0m 6ms/step - loss: 5.2752e-05 - root_mean_squared_error: 0.0103 - val_loss: 4.1288e-05 - val_root_mean_squared_error: 0.0091\n",
      "Epoch 39/50\n",
      "\u001b[1m56/56\u001b[0m \u001b[32m━━━━━━━━━━━━━━━━━━━━\u001b[0m\u001b[37m\u001b[0m \u001b[1m0s\u001b[0m 6ms/step - loss: 5.2175e-05 - root_mean_squared_error: 0.0102 - val_loss: 5.2194e-05 - val_root_mean_squared_error: 0.0102\n",
      "Epoch 40/50\n",
      "\u001b[1m56/56\u001b[0m \u001b[32m━━━━━━━━━━━━━━━━━━━━\u001b[0m\u001b[37m\u001b[0m \u001b[1m0s\u001b[0m 6ms/step - loss: 4.7336e-05 - root_mean_squared_error: 0.0097 - val_loss: 5.0286e-05 - val_root_mean_squared_error: 0.0100\n",
      "Epoch 41/50\n",
      "\u001b[1m56/56\u001b[0m \u001b[32m━━━━━━━━━━━━━━━━━━━━\u001b[0m\u001b[37m\u001b[0m \u001b[1m0s\u001b[0m 6ms/step - loss: 5.1186e-05 - root_mean_squared_error: 0.0101 - val_loss: 4.0973e-05 - val_root_mean_squared_error: 0.0091\n",
      "Epoch 42/50\n",
      "\u001b[1m56/56\u001b[0m \u001b[32m━━━━━━━━━━━━━━━━━━━━\u001b[0m\u001b[37m\u001b[0m \u001b[1m0s\u001b[0m 6ms/step - loss: 4.7697e-05 - root_mean_squared_error: 0.0098 - val_loss: 7.4572e-05 - val_root_mean_squared_error: 0.0122\n",
      "Epoch 43/50\n",
      "\u001b[1m56/56\u001b[0m \u001b[32m━━━━━━━━━━━━━━━━━━━━\u001b[0m\u001b[37m\u001b[0m \u001b[1m0s\u001b[0m 6ms/step - loss: 4.9805e-05 - root_mean_squared_error: 0.0100 - val_loss: 3.9260e-05 - val_root_mean_squared_error: 0.0089\n",
      "Epoch 44/50\n",
      "\u001b[1m56/56\u001b[0m \u001b[32m━━━━━━━━━━━━━━━━━━━━\u001b[0m\u001b[37m\u001b[0m \u001b[1m0s\u001b[0m 6ms/step - loss: 6.0174e-05 - root_mean_squared_error: 0.0110 - val_loss: 7.2012e-05 - val_root_mean_squared_error: 0.0120\n",
      "Epoch 45/50\n",
      "\u001b[1m56/56\u001b[0m \u001b[32m━━━━━━━━━━━━━━━━━━━━\u001b[0m\u001b[37m\u001b[0m \u001b[1m0s\u001b[0m 6ms/step - loss: 4.1787e-05 - root_mean_squared_error: 0.0091 - val_loss: 6.9315e-05 - val_root_mean_squared_error: 0.0118\n",
      "Epoch 46/50\n",
      "\u001b[1m56/56\u001b[0m \u001b[32m━━━━━━━━━━━━━━━━━━━━\u001b[0m\u001b[37m\u001b[0m \u001b[1m0s\u001b[0m 6ms/step - loss: 5.3447e-05 - root_mean_squared_error: 0.0103 - val_loss: 4.2123e-05 - val_root_mean_squared_error: 0.0092\n",
      "Epoch 47/50\n",
      "\u001b[1m56/56\u001b[0m \u001b[32m━━━━━━━━━━━━━━━━━━━━\u001b[0m\u001b[37m\u001b[0m \u001b[1m0s\u001b[0m 6ms/step - loss: 4.6034e-05 - root_mean_squared_error: 0.0096 - val_loss: 3.8894e-05 - val_root_mean_squared_error: 0.0088\n",
      "Epoch 48/50\n",
      "\u001b[1m56/56\u001b[0m \u001b[32m━━━━━━━━━━━━━━━━━━━━\u001b[0m\u001b[37m\u001b[0m \u001b[1m0s\u001b[0m 6ms/step - loss: 4.5364e-05 - root_mean_squared_error: 0.0095 - val_loss: 3.8129e-05 - val_root_mean_squared_error: 0.0087\n",
      "Epoch 49/50\n",
      "\u001b[1m56/56\u001b[0m \u001b[32m━━━━━━━━━━━━━━━━━━━━\u001b[0m\u001b[37m\u001b[0m \u001b[1m0s\u001b[0m 6ms/step - loss: 4.2243e-05 - root_mean_squared_error: 0.0092 - val_loss: 3.9098e-05 - val_root_mean_squared_error: 0.0088\n",
      "Epoch 50/50\n",
      "\u001b[1m56/56\u001b[0m \u001b[32m━━━━━━━━━━━━━━━━━━━━\u001b[0m\u001b[37m\u001b[0m \u001b[1m0s\u001b[0m 6ms/step - loss: 4.0042e-05 - root_mean_squared_error: 0.0089 - val_loss: 3.5981e-05 - val_root_mean_squared_error: 0.0085\n"
     ]
    }
   ],
   "source": [
    "model_huber = Sequential()\n",
    "model_huber.add(InputLayer(shape = (10,1)))\n",
    "model_huber.add(LSTM(128))\n",
    "model_huber.add(Dense(8,'relu'))\n",
    "model_huber.add(Dense(1,'linear'))\n",
    "\n",
    "model_huber.compile(loss='Huber',optimizer=Adam(learning_rate=0.001),metrics = [RootMeanSquaredError()])\n",
    "# model_huber.compile(loss=huber_loss,optimizer=Adam(learning_rate=0.0001),metrics = ['accuracy'])\n",
    "\n",
    "history_huber = model_huber.fit(X_train,Y_train,validation_data=(X_test,Y_test),epochs=50)"
   ]
  },
  {
   "cell_type": "code",
   "execution_count": 55,
   "metadata": {},
   "outputs": [
    {
     "data": {
      "image/png": "[encoded data removed]",
      "text/plain": [
       "<Figure size 640x480 with 1 Axes>"
      ]
     },
     "metadata": {},
     "output_type": "display_data"
    }
   ],
   "source": [
    "plt.plot(history_mse.history['loss'],label = 'Mean Squared Error')\n",
    "plt.plot(history_mae.history['loss'],label = 'Mean Absolute Error')\n",
    "plt.plot(history_huber.history['loss'],label = 'Huber Loss')\n",
    "plt.plot(history_custom.history['loss'],label = 'Custom Loss')\n",
    "plt.title('CO2 Losses')\n",
    "plt.legend()\n",
    "plt.show()"
   ]
  },
  {
   "cell_type": "code",
   "execution_count": 56,
   "metadata": {},
   "outputs": [
    {
     "name": "stdout",
     "output_type": "stream",
     "text": [
      "\u001b[1m 1/56\u001b[0m \u001b[37m━━━━━━━━━━━━━━━━━━━━\u001b[0m \u001b[1m2s\u001b[0m 55ms/step"
     ]
    },
    {
     "name": "stdout",
     "output_type": "stream",
     "text": [
      "\u001b[1m56/56\u001b[0m \u001b[32m━━━━━━━━━━━━━━━━━━━━\u001b[0m\u001b[37m\u001b[0m \u001b[1m1s\u001b[0m 9ms/step\n",
      "\u001b[1m56/56\u001b[0m \u001b[32m━━━━━━━━━━━━━━━━━━━━\u001b[0m\u001b[37m\u001b[0m \u001b[1m1s\u001b[0m 9ms/step\n",
      "\u001b[1m56/56\u001b[0m \u001b[32m━━━━━━━━━━━━━━━━━━━━\u001b[0m\u001b[37m\u001b[0m \u001b[1m1s\u001b[0m 14ms/step\n",
      "\u001b[1m56/56\u001b[0m \u001b[32m━━━━━━━━━━━━━━━━━━━━\u001b[0m\u001b[37m\u001b[0m \u001b[1m1s\u001b[0m 9ms/step\n",
      "\u001b[1m14/14\u001b[0m \u001b[32m━━━━━━━━━━━━━━━━━━━━\u001b[0m\u001b[37m\u001b[0m \u001b[1m0s\u001b[0m 10ms/step\n",
      "\u001b[1m14/14\u001b[0m \u001b[32m━━━━━━━━━━━━━━━━━━━━\u001b[0m\u001b[37m\u001b[0m \u001b[1m0s\u001b[0m 7ms/step\n",
      "\u001b[1m14/14\u001b[0m \u001b[32m━━━━━━━━━━━━━━━━━━━━\u001b[0m\u001b[37m\u001b[0m \u001b[1m0s\u001b[0m 7ms/step\n",
      "\u001b[1m14/14\u001b[0m \u001b[32m━━━━━━━━━━━━━━━━━━━━\u001b[0m\u001b[37m\u001b[0m \u001b[1m0s\u001b[0m 8ms/step\n"
     ]
    }
   ],
   "source": [
    "train_predictions_mse = model_mse.predict(X_train).flatten()\n",
    "train_predictions_mae = model_mae.predict(X_train).flatten()\n",
    "train_predictions_custom = model_custom.predict(X_train).flatten()\n",
    "train_predictions_huber = model_huber.predict(X_train).flatten()\n",
    "\n",
    "test_predictions_mse= model_mse.predict(X_test).flatten()\n",
    "test_predictions_mae= model_mae.predict(X_test).flatten()\n",
    "test_predictions_custom= model_custom.predict(X_test).flatten()\n",
    "test_predictions_huber = model_huber.predict(X_test).flatten()"
   ]
  },
  {
   "cell_type": "code",
   "execution_count": 57,
   "metadata": {},
   "outputs": [
    {
     "name": "stdout",
     "output_type": "stream",
     "text": [
      "MAE for MAE model  0.009602155817643418\n",
      "MAE for MSE model  0.007823674626895885\n",
      "MAE for Huber model  0.006788889357527232\n",
      "MAE for Custom model  0.008125824172468498\n",
      "\n",
      "MSE for MAE model  0.0001457740860782072\n",
      "MSE for MSE model  9.602632585567814e-05\n",
      "MSE for Huber model  7.331779460589122e-05\n",
      "MSE for Custom model  0.00010814679004660002\n",
      "\n",
      "Huber loss for MAE model  tf.Tensor(7.2887044e-05, shape=(), dtype=float32)\n",
      "Huber loss for MSE model  tf.Tensor(4.801316e-05, shape=(), dtype=float32)\n",
      "Huber loss for Huber model  tf.Tensor(3.6658897e-05, shape=(), dtype=float32)\n",
      "Huber loss for Custom model  tf.Tensor(5.4073396e-05, shape=(), dtype=float32)\n"
     ]
    }
   ],
   "source": [
    "huber_loss = tf.keras.losses.Huber(delta=1.0)  # delta is the threshold for transition between quadratic and linear loss\n",
    "\n",
    "print(\"MAE for MAE model \" ,mean_absolute_error(Y_train,train_predictions_mae))\n",
    "print(\"MAE for MSE model \" ,mean_absolute_error(Y_train,train_predictions_mse))\n",
    "print(\"MAE for Huber model \" ,mean_absolute_error(Y_train,train_predictions_huber))\n",
    "print(\"MAE for Custom model \" ,mean_absolute_error(Y_train,train_predictions_custom))\n",
    "print()\n",
    "\n",
    "print(\"MSE for MAE model \" ,mean_squared_error(Y_train,train_predictions_mae))\n",
    "print(\"MSE for MSE model \" ,mean_squared_error(Y_train,train_predictions_mse))\n",
    "print(\"MSE for Huber model \" ,mean_squared_error(Y_train,train_predictions_huber))\n",
    "print(\"MSE for Custom model \" ,mean_squared_error(Y_train,train_predictions_custom))\n",
    "print()\n",
    "\n",
    "print(\"Huber loss for MAE model \" ,huber_loss(Y_train,train_predictions_mae))\n",
    "print(\"Huber loss for MSE model \" ,huber_loss(Y_train,train_predictions_mse))\n",
    "print(\"Huber loss for Huber model \" ,huber_loss(Y_train,train_predictions_huber))\n",
    "print(\"Huber loss for Custom model \" ,huber_loss(Y_train,train_predictions_custom))"
   ]
  },
  {
   "cell_type": "code",
   "execution_count": 58,
   "metadata": {},
   "outputs": [
    {
     "name": "stdout",
     "output_type": "stream",
     "text": [
      "MAE model  0.010060035606076864\n",
      "MSE model  0.00798339939296771\n",
      "Huber model  0.00694402408380213\n",
      "Custom model  0.008501062115331963\n",
      "\n",
      "MAE model  0.0001518579158878265\n",
      "MSE model  9.449353935120698e-05\n",
      "Huber model  7.19626205775333e-05\n",
      "Custom model  0.00011177667076724091\n",
      "\n",
      "MAE model  tf.Tensor(7.592897e-05, shape=(), dtype=float32)\n",
      "MSE model  tf.Tensor(4.7246773e-05, shape=(), dtype=float32)\n",
      "Huber model  tf.Tensor(3.5981313e-05, shape=(), dtype=float32)\n",
      "Custom model  tf.Tensor(5.588834e-05, shape=(), dtype=float32)\n"
     ]
    }
   ],
   "source": [
    "print(\"MAE model \" ,mean_absolute_error(Y_test,test_predictions_mae))\n",
    "print(\"MSE model \" ,mean_absolute_error(Y_test,test_predictions_mse))\n",
    "print(\"Huber model \" ,mean_absolute_error(Y_test,test_predictions_huber))\n",
    "print(\"Custom model \" ,mean_absolute_error(Y_test,test_predictions_custom))\n",
    "print()\n",
    "\n",
    "print(\"MAE model \" ,mean_squared_error(Y_test,test_predictions_mae))\n",
    "print(\"MSE model \" ,mean_squared_error(Y_test,test_predictions_mse))\n",
    "print(\"Huber model \" ,mean_squared_error(Y_test,test_predictions_huber))\n",
    "print(\"Custom model \" ,mean_squared_error(Y_test,test_predictions_custom))\n",
    "print()\n",
    "\n",
    "huber_loss = tf.keras.losses.Huber(delta=1.0)  # delta is the threshold for transition between quadratic and linear loss\n",
    "print(\"MAE model \" ,huber_loss(Y_test,test_predictions_mae))\n",
    "print(\"MSE model \" ,huber_loss(Y_test,test_predictions_mse))\n",
    "print(\"Huber model \" ,huber_loss(Y_test,test_predictions_huber))\n",
    "print(\"Custom model \" ,huber_loss(Y_test,test_predictions_custom))"
   ]
  },
  {
   "cell_type": "code",
   "execution_count": 61,
   "metadata": {},
   "outputs": [
    {
     "name": "stdout",
     "output_type": "stream",
     "text": [
      "MAE model  0.9981139651734842\n",
      "MSE model  0.9988264154354076\n",
      "Huber model  0.9991062434393158\n",
      "Custom model  0.9986117635513005\n"
     ]
    }
   ],
   "source": [
    "print(\"MAE model \" ,r2_score(Y_test,test_predictions_mae))\n",
    "print(\"MSE model \" ,r2_score(Y_test,test_predictions_mse))\n",
    "print(\"Huber model \" ,r2_score(Y_test,test_predictions_huber))\n",
    "print(\"Custom model \" ,r2_score(Y_test,test_predictions_custom))"
   ]
  },
  {
   "cell_type": "code",
   "execution_count": 62,
   "metadata": {},
   "outputs": [
    {
     "name": "stdout",
     "output_type": "stream",
     "text": [
      "MAE model  0.9981039390288641\n",
      "MSE model  0.9987510004449017\n",
      "Huber model  0.9990463667954851\n",
      "Custom model  0.9985933514434727\n"
     ]
    }
   ],
   "source": [
    "print(\"MAE model \" ,r2_score(Y_train,train_predictions_mae))\n",
    "print(\"MSE model \" ,r2_score(Y_train,train_predictions_mse))\n",
    "print(\"Huber model \" ,r2_score(Y_train,train_predictions_huber))\n",
    "print(\"Custom model \" ,r2_score(Y_train,train_predictions_custom))"
   ]
  },
  {
   "cell_type": "code",
   "execution_count": null,
   "metadata": {},
   "outputs": [],
   "source": []
  }
 ],
 "metadata": {
  "kernelspec": {
   "display_name": "Python 3 (ipykernel)",
   "language": "python",
   "name": "python3"
  }
 },
 "nbformat": 4,
 "nbformat_minor": 2
}
