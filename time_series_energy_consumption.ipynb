{
 "cells": [
  {
   "cell_type": "code",
   "execution_count": 2,
   "metadata": {},
   "outputs": [
    {
     "name": "stderr",
     "output_type": "stream",
     "text": [
      "2024-11-23 19:46:02.594007: I tensorflow/core/util/port.cc:153] oneDNN custom operations are on. You may see slightly different numerical results due to floating-point round-off errors from different computation orders. To turn them off, set the environment variable `TF_ENABLE_ONEDNN_OPTS=0`.\n",
      "2024-11-23 19:46:02.594378: I external/local_xla/xla/tsl/cuda/cudart_stub.cc:32] Could not find cuda drivers on your machine, GPU will not be used.\n",
      "2024-11-23 19:46:02.596372: I external/local_xla/xla/tsl/cuda/cudart_stub.cc:32] Could not find cuda drivers on your machine, GPU will not be used.\n",
      "2024-11-23 19:46:02.602897: E external/local_xla/xla/stream_executor/cuda/cuda_fft.cc:485] Unable to register cuFFT factory: Attempting to register factory for plugin cuFFT when one has already been registered\n",
      "2024-11-23 19:46:02.613056: E external/local_xla/xla/stream_executor/cuda/cuda_dnn.cc:8454] Unable to register cuDNN factory: Attempting to register factory for plugin cuDNN when one has already been registered\n",
      "2024-11-23 19:46:02.615959: E external/local_xla/xla/stream_executor/cuda/cuda_blas.cc:1452] Unable to register cuBLAS factory: Attempting to register factory for plugin cuBLAS when one has already been registered\n",
      "2024-11-23 19:46:02.624052: I tensorflow/core/platform/cpu_feature_guard.cc:210] This TensorFlow binary is optimized to use available CPU instructions in performance-critical operations.\n",
      "To enable the following instructions: AVX2 AVX_VNNI FMA, in other operations, rebuild TensorFlow with the appropriate compiler flags.\n",
      "2024-11-23 19:46:03.577213: W tensorflow/compiler/tf2tensorrt/utils/py_utils.cc:38] TF-TRT Warning: Could not find TensorRT\n"
     ]
    }
   ],
   "source": [
    "import numpy as np\n",
    "np.random.seed(1) # for reproducibility\n",
    "\n",
    "import keras.backend as K\n",
    "import tensorflow as tf\n",
    "import yfinance as yf\n",
    "import pandas as pd\n",
    "import matplotlib.pyplot as plt\n",
    "import time\n",
    "import os\n",
    "import pickle\n",
    "import numpy as np\n",
    "from tensorflow.keras.models import Sequential, load_model\n",
    "from tensorflow.keras.layers import *\n",
    "from tensorflow.keras.callbacks import ModelCheckpoint\n",
    "from tensorflow.keras.losses import Huber\n",
    "# from tensorflow.keras import optimizers\n",
    "from tensorflow.keras.metrics import RootMeanSquaredError\n",
    "from tensorflow.keras.optimizers import Adam\n",
    "from sklearn.preprocessing import MinMaxScaler\n",
    "from sklearn.model_selection import train_test_split\n",
    "from sklearn.metrics import mean_squared_error, mean_absolute_error,r2_score"
   ]
  },
  {
   "cell_type": "code",
   "execution_count": 3,
   "metadata": {},
   "outputs": [],
   "source": [
    "df = pd.read_csv(\"Dataset/AEP_hourly.csv\")"
   ]
  },
  {
   "cell_type": "code",
   "execution_count": 4,
   "metadata": {},
   "outputs": [],
   "source": [
    "df = df[['AEP_MW']]"
   ]
  },
  {
   "cell_type": "code",
   "execution_count": 5,
   "metadata": {},
   "outputs": [
    {
     "data": {
      "text/html": [
       "<div>\n",
       "<style scoped>\n",
       "    .dataframe tbody tr th:only-of-type {\n",
       "        vertical-align: middle;\n",
       "    }\n",
       "\n",
       "    .dataframe tbody tr th {\n",
       "        vertical-align: top;\n",
       "    }\n",
       "\n",
       "    .dataframe thead th {\n",
       "        text-align: right;\n",
       "    }\n",
       "</style>\n",
       "<table border=\"1\" class=\"dataframe\">\n",
       "  <thead>\n",
       "    <tr style=\"text-align: right;\">\n",
       "      <th></th>\n",
       "      <th>AEP_MW</th>\n",
       "    </tr>\n",
       "  </thead>\n",
       "  <tbody>\n",
       "    <tr>\n",
       "      <th>0</th>\n",
       "      <td>13478.0</td>\n",
       "    </tr>\n",
       "    <tr>\n",
       "      <th>1</th>\n",
       "      <td>12865.0</td>\n",
       "    </tr>\n",
       "    <tr>\n",
       "      <th>2</th>\n",
       "      <td>12577.0</td>\n",
       "    </tr>\n",
       "    <tr>\n",
       "      <th>3</th>\n",
       "      <td>12517.0</td>\n",
       "    </tr>\n",
       "    <tr>\n",
       "      <th>4</th>\n",
       "      <td>12670.0</td>\n",
       "    </tr>\n",
       "  </tbody>\n",
       "</table>\n",
       "</div>"
      ],
      "text/plain": [
       "    AEP_MW\n",
       "0  13478.0\n",
       "1  12865.0\n",
       "2  12577.0\n",
       "3  12517.0\n",
       "4  12670.0"
      ]
     },
     "execution_count": 5,
     "metadata": {},
     "output_type": "execute_result"
    }
   ],
   "source": [
    "df.head()"
   ]
  },
  {
   "cell_type": "code",
   "execution_count": 6,
   "metadata": {},
   "outputs": [
    {
     "data": {
      "text/plain": [
       "(121273, 1)"
      ]
     },
     "execution_count": 6,
     "metadata": {},
     "output_type": "execute_result"
    }
   ],
   "source": [
    "df.shape"
   ]
  },
  {
   "cell_type": "code",
   "execution_count": 7,
   "metadata": {},
   "outputs": [],
   "source": [
    "def create_data(dataset,window_size = 10):\n",
    "    # df = dataset.to_numpy()\n",
    "    df = dataset.copy()\n",
    "    X = []\n",
    "    y = []\n",
    "    for i in range(len(df)-window_size):\n",
    "        row = [a for a in df[i:i+window_size]]\n",
    "        X.append(row)\n",
    "        label = df[i+window_size]\n",
    "        y.append(label)\n",
    "        \n",
    "    return np.array(X),np.array(y)"
   ]
  },
  {
   "cell_type": "code",
   "execution_count": 8,
   "metadata": {},
   "outputs": [
    {
     "data": {
      "text/html": [
       "<div>\n",
       "<style scoped>\n",
       "    .dataframe tbody tr th:only-of-type {\n",
       "        vertical-align: middle;\n",
       "    }\n",
       "\n",
       "    .dataframe tbody tr th {\n",
       "        vertical-align: top;\n",
       "    }\n",
       "\n",
       "    .dataframe thead th {\n",
       "        text-align: right;\n",
       "    }\n",
       "</style>\n",
       "<table border=\"1\" class=\"dataframe\">\n",
       "  <thead>\n",
       "    <tr style=\"text-align: right;\">\n",
       "      <th></th>\n",
       "      <th>AEP_MW</th>\n",
       "    </tr>\n",
       "  </thead>\n",
       "  <tbody>\n",
       "    <tr>\n",
       "      <th>count</th>\n",
       "      <td>121273.000000</td>\n",
       "    </tr>\n",
       "    <tr>\n",
       "      <th>mean</th>\n",
       "      <td>15499.513717</td>\n",
       "    </tr>\n",
       "    <tr>\n",
       "      <th>std</th>\n",
       "      <td>2591.399065</td>\n",
       "    </tr>\n",
       "    <tr>\n",
       "      <th>min</th>\n",
       "      <td>9581.000000</td>\n",
       "    </tr>\n",
       "    <tr>\n",
       "      <th>25%</th>\n",
       "      <td>13630.000000</td>\n",
       "    </tr>\n",
       "    <tr>\n",
       "      <th>50%</th>\n",
       "      <td>15310.000000</td>\n",
       "    </tr>\n",
       "    <tr>\n",
       "      <th>75%</th>\n",
       "      <td>17200.000000</td>\n",
       "    </tr>\n",
       "    <tr>\n",
       "      <th>max</th>\n",
       "      <td>25695.000000</td>\n",
       "    </tr>\n",
       "  </tbody>\n",
       "</table>\n",
       "</div>"
      ],
      "text/plain": [
       "              AEP_MW\n",
       "count  121273.000000\n",
       "mean    15499.513717\n",
       "std      2591.399065\n",
       "min      9581.000000\n",
       "25%     13630.000000\n",
       "50%     15310.000000\n",
       "75%     17200.000000\n",
       "max     25695.000000"
      ]
     },
     "execution_count": 8,
     "metadata": {},
     "output_type": "execute_result"
    }
   ],
   "source": [
    "df.describe()"
   ]
  },
  {
   "cell_type": "code",
   "execution_count": 9,
   "metadata": {},
   "outputs": [],
   "source": [
    "scaler = MinMaxScaler()\n",
    "data_scaled = scaler.fit_transform(df)"
   ]
  },
  {
   "cell_type": "code",
   "execution_count": 10,
   "metadata": {},
   "outputs": [],
   "source": [
    "WINDOW_SIZE = 10\n",
    "\n",
    "X,y = create_data(data_scaled,WINDOW_SIZE)"
   ]
  },
  {
   "cell_type": "code",
   "execution_count": 11,
   "metadata": {},
   "outputs": [
    {
     "data": {
      "text/plain": [
       "(121263, 10, 1)"
      ]
     },
     "execution_count": 11,
     "metadata": {},
     "output_type": "execute_result"
    }
   ],
   "source": [
    "X.shape"
   ]
  },
  {
   "cell_type": "code",
   "execution_count": 12,
   "metadata": {},
   "outputs": [
    {
     "data": {
      "text/plain": [
       "(121263, 1)"
      ]
     },
     "execution_count": 12,
     "metadata": {},
     "output_type": "execute_result"
    }
   ],
   "source": [
    "y.shape"
   ]
  },
  {
   "cell_type": "code",
   "execution_count": 13,
   "metadata": {},
   "outputs": [],
   "source": [
    "X_train,X_test,Y_train,Y_test = train_test_split(X,y,test_size=0.2,random_state=42)"
   ]
  },
  {
   "cell_type": "code",
   "execution_count": 16,
   "metadata": {},
   "outputs": [
    {
     "name": "stdout",
     "output_type": "stream",
     "text": [
      "Epoch 1/10\n",
      "\u001b[1m3032/3032\u001b[0m \u001b[32m━━━━━━━━━━━━━━━━━━━━\u001b[0m\u001b[37m\u001b[0m \u001b[1m25s\u001b[0m 8ms/step - loss: 0.0050 - root_mean_squared_error: 0.0646 - val_loss: 0.0010 - val_root_mean_squared_error: 0.0321\n",
      "Epoch 2/10\n",
      "\u001b[1m3032/3032\u001b[0m \u001b[32m━━━━━━━━━━━━━━━━━━━━\u001b[0m\u001b[37m\u001b[0m \u001b[1m25s\u001b[0m 8ms/step - loss: 8.6190e-04 - root_mean_squared_error: 0.0294 - val_loss: 7.7439e-04 - val_root_mean_squared_error: 0.0278\n",
      "Epoch 3/10\n",
      "\u001b[1m3032/3032\u001b[0m \u001b[32m━━━━━━━━━━━━━━━━━━━━\u001b[0m\u001b[37m\u001b[0m \u001b[1m23s\u001b[0m 8ms/step - loss: 7.6778e-04 - root_mean_squared_error: 0.0277 - val_loss: 6.8888e-04 - val_root_mean_squared_error: 0.0262\n",
      "Epoch 4/10\n",
      "\u001b[1m3032/3032\u001b[0m \u001b[32m━━━━━━━━━━━━━━━━━━━━\u001b[0m\u001b[37m\u001b[0m \u001b[1m24s\u001b[0m 8ms/step - loss: 7.0758e-04 - root_mean_squared_error: 0.0266 - val_loss: 6.5559e-04 - val_root_mean_squared_error: 0.0256\n",
      "Epoch 5/10\n",
      "\u001b[1m3032/3032\u001b[0m \u001b[32m━━━━━━━━━━━━━━━━━━━━\u001b[0m\u001b[37m\u001b[0m \u001b[1m28s\u001b[0m 9ms/step - loss: 6.3758e-04 - root_mean_squared_error: 0.0252 - val_loss: 7.0842e-04 - val_root_mean_squared_error: 0.0266\n",
      "Epoch 6/10\n",
      "\u001b[1m3032/3032\u001b[0m \u001b[32m━━━━━━━━━━━━━━━━━━━━\u001b[0m\u001b[37m\u001b[0m \u001b[1m24s\u001b[0m 8ms/step - loss: 6.0622e-04 - root_mean_squared_error: 0.0246 - val_loss: 6.1636e-04 - val_root_mean_squared_error: 0.0248\n",
      "Epoch 7/10\n",
      "\u001b[1m3032/3032\u001b[0m \u001b[32m━━━━━━━━━━━━━━━━━━━━\u001b[0m\u001b[37m\u001b[0m \u001b[1m25s\u001b[0m 8ms/step - loss: 6.0358e-04 - root_mean_squared_error: 0.0246 - val_loss: 6.2042e-04 - val_root_mean_squared_error: 0.0249\n",
      "Epoch 8/10\n",
      "\u001b[1m3032/3032\u001b[0m \u001b[32m━━━━━━━━━━━━━━━━━━━━\u001b[0m\u001b[37m\u001b[0m \u001b[1m27s\u001b[0m 9ms/step - loss: 5.8135e-04 - root_mean_squared_error: 0.0241 - val_loss: 5.8324e-04 - val_root_mean_squared_error: 0.0242\n",
      "Epoch 9/10\n",
      "\u001b[1m3032/3032\u001b[0m \u001b[32m━━━━━━━━━━━━━━━━━━━━\u001b[0m\u001b[37m\u001b[0m \u001b[1m23s\u001b[0m 8ms/step - loss: 5.8679e-04 - root_mean_squared_error: 0.0242 - val_loss: 5.8093e-04 - val_root_mean_squared_error: 0.0241\n",
      "Epoch 10/10\n",
      "\u001b[1m3032/3032\u001b[0m \u001b[32m━━━━━━━━━━━━━━━━━━━━\u001b[0m\u001b[37m\u001b[0m \u001b[1m23s\u001b[0m 8ms/step - loss: 5.4352e-04 - root_mean_squared_error: 0.0233 - val_loss: 5.9819e-04 - val_root_mean_squared_error: 0.0245\n"
     ]
    }
   ],
   "source": [
    "model_mse = Sequential()\n",
    "model_mse.add(InputLayer(shape = (10,1)))\n",
    "model_mse.add(LSTM(128,return_sequences=True))\n",
    "model_mse.add(LSTM(32))\n",
    "model_mse.add(Dense(8,'relu'))\n",
    "model_mse.add(Dense(1,'linear'))\n",
    "\n",
    "# model_mse.summary()\n",
    "model_mse.compile(loss='mse',optimizer=Adam(learning_rate=0.001),metrics = [RootMeanSquaredError()])\n",
    "# history_mse = model_mse.fit(X_train,Y_train,validation_data=(X_test,Y_test),epochs=10,callbacks=[cp])\n",
    "history_mse = model_mse.fit(X_train,Y_train,validation_data=(X_test,Y_test),epochs=10)"
   ]
  },
  {
   "cell_type": "code",
   "execution_count": 19,
   "metadata": {},
   "outputs": [
    {
     "name": "stdout",
     "output_type": "stream",
     "text": [
      "Epoch 1/10\n",
      "\u001b[1m3032/3032\u001b[0m \u001b[32m━━━━━━━━━━━━━━━━━━━━\u001b[0m\u001b[37m\u001b[0m \u001b[1m25s\u001b[0m 8ms/step - loss: 0.0487 - root_mean_squared_error: 0.0765 - val_loss: 0.0185 - val_root_mean_squared_error: 0.0294\n",
      "Epoch 2/10\n",
      "\u001b[1m3032/3032\u001b[0m \u001b[32m━━━━━━━━━━━━━━━━━━━━\u001b[0m\u001b[37m\u001b[0m \u001b[1m25s\u001b[0m 8ms/step - loss: 0.0185 - root_mean_squared_error: 0.0286 - val_loss: 0.0168 - val_root_mean_squared_error: 0.0268\n",
      "Epoch 3/10\n",
      "\u001b[1m3032/3032\u001b[0m \u001b[32m━━━━━━━━━━━━━━━━━━━━\u001b[0m\u001b[37m\u001b[0m \u001b[1m23s\u001b[0m 8ms/step - loss: 0.0166 - root_mean_squared_error: 0.0265 - val_loss: 0.0156 - val_root_mean_squared_error: 0.0261\n",
      "Epoch 4/10\n",
      "\u001b[1m3032/3032\u001b[0m \u001b[32m━━━━━━━━━━━━━━━━━━━━\u001b[0m\u001b[37m\u001b[0m \u001b[1m23s\u001b[0m 7ms/step - loss: 0.0155 - root_mean_squared_error: 0.0252 - val_loss: 0.0159 - val_root_mean_squared_error: 0.0258\n",
      "Epoch 5/10\n",
      "\u001b[1m3032/3032\u001b[0m \u001b[32m━━━━━━━━━━━━━━━━━━━━\u001b[0m\u001b[37m\u001b[0m \u001b[1m26s\u001b[0m 8ms/step - loss: 0.0152 - root_mean_squared_error: 0.0250 - val_loss: 0.0147 - val_root_mean_squared_error: 0.0251\n",
      "Epoch 6/10\n",
      "\u001b[1m3032/3032\u001b[0m \u001b[32m━━━━━━━━━━━━━━━━━━━━\u001b[0m\u001b[37m\u001b[0m \u001b[1m23s\u001b[0m 7ms/step - loss: 0.0149 - root_mean_squared_error: 0.0249 - val_loss: 0.0140 - val_root_mean_squared_error: 0.0244\n",
      "Epoch 7/10\n",
      "\u001b[1m3032/3032\u001b[0m \u001b[32m━━━━━━━━━━━━━━━━━━━━\u001b[0m\u001b[37m\u001b[0m \u001b[1m22s\u001b[0m 7ms/step - loss: 0.0144 - root_mean_squared_error: 0.0242 - val_loss: 0.0137 - val_root_mean_squared_error: 0.0239\n",
      "Epoch 8/10\n",
      "\u001b[1m3032/3032\u001b[0m \u001b[32m━━━━━━━━━━━━━━━━━━━━\u001b[0m\u001b[37m\u001b[0m \u001b[1m25s\u001b[0m 8ms/step - loss: 0.0141 - root_mean_squared_error: 0.0237 - val_loss: 0.0134 - val_root_mean_squared_error: 0.0236\n",
      "Epoch 9/10\n",
      "\u001b[1m3032/3032\u001b[0m \u001b[32m━━━━━━━━━━━━━━━━━━━━\u001b[0m\u001b[37m\u001b[0m \u001b[1m26s\u001b[0m 9ms/step - loss: 0.0137 - root_mean_squared_error: 0.0234 - val_loss: 0.0134 - val_root_mean_squared_error: 0.0238\n",
      "Epoch 10/10\n",
      "\u001b[1m3032/3032\u001b[0m \u001b[32m━━━━━━━━━━━━━━━━━━━━\u001b[0m\u001b[37m\u001b[0m \u001b[1m25s\u001b[0m 8ms/step - loss: 0.0133 - root_mean_squared_error: 0.0227 - val_loss: 0.0138 - val_root_mean_squared_error: 0.0241\n"
     ]
    }
   ],
   "source": [
    "model_mae = Sequential()\n",
    "model_mae.add(InputLayer(shape = (10,1)))\n",
    "model_mae.add(LSTM(128,return_sequences=True))\n",
    "model_mae.add(LSTM(32))\n",
    "\n",
    "model_mae.add(Dense(8,'relu'))\n",
    "model_mae.add(Dense(1,'linear'))\n",
    "\n",
    "# model_mae.summary()\n",
    "# cp = model_maeCheckpoint('output/best_model.weights.h5',save_weights_only=False)\n",
    "# cp = model_maeCheckpoint('output/best_model.keras',save_weights_only=False)\n",
    "model_mae.compile(loss='mae',optimizer=Adam(learning_rate=0.001),metrics = [RootMeanSquaredError()])\n",
    "history_mae = model_mae.fit(X_train,Y_train,validation_data=(X_test,Y_test),epochs=10)"
   ]
  },
  {
   "cell_type": "code",
   "execution_count": 35,
   "metadata": {},
   "outputs": [
    {
     "name": "stdout",
     "output_type": "stream",
     "text": [
      "Epoch 1/10\n",
      "\u001b[1m3032/3032\u001b[0m \u001b[32m━━━━━━━━━━━━━━━━━━━━\u001b[0m\u001b[37m\u001b[0m \u001b[1m64s\u001b[0m 20ms/step - loss: 0.0048 - root_mean_squared_error: 0.0873 - val_loss: 4.3502e-04 - val_root_mean_squared_error: 0.0295\n",
      "Epoch 2/10\n",
      "\u001b[1m3032/3032\u001b[0m \u001b[32m━━━━━━━━━━━━━━━━━━━━\u001b[0m\u001b[37m\u001b[0m \u001b[1m63s\u001b[0m 21ms/step - loss: 4.3749e-04 - root_mean_squared_error: 0.0296 - val_loss: 3.9306e-04 - val_root_mean_squared_error: 0.0280\n",
      "Epoch 3/10\n",
      "\u001b[1m3032/3032\u001b[0m \u001b[32m━━━━━━━━━━━━━━━━━━━━\u001b[0m\u001b[37m\u001b[0m \u001b[1m64s\u001b[0m 21ms/step - loss: 3.7714e-04 - root_mean_squared_error: 0.0275 - val_loss: 3.6301e-04 - val_root_mean_squared_error: 0.0269\n",
      "Epoch 4/10\n",
      "\u001b[1m3032/3032\u001b[0m \u001b[32m━━━━━━━━━━━━━━━━━━━━\u001b[0m\u001b[37m\u001b[0m \u001b[1m64s\u001b[0m 21ms/step - loss: 3.4090e-04 - root_mean_squared_error: 0.0261 - val_loss: 3.2877e-04 - val_root_mean_squared_error: 0.0256\n",
      "Epoch 5/10\n",
      "\u001b[1m3032/3032\u001b[0m \u001b[32m━━━━━━━━━━━━━━━━━━━━\u001b[0m\u001b[37m\u001b[0m \u001b[1m62s\u001b[0m 21ms/step - loss: 3.1464e-04 - root_mean_squared_error: 0.0251 - val_loss: 3.6070e-04 - val_root_mean_squared_error: 0.0269\n",
      "Epoch 6/10\n",
      "\u001b[1m3032/3032\u001b[0m \u001b[32m━━━━━━━━━━━━━━━━━━━━\u001b[0m\u001b[37m\u001b[0m \u001b[1m62s\u001b[0m 20ms/step - loss: 3.2129e-04 - root_mean_squared_error: 0.0253 - val_loss: 3.1738e-04 - val_root_mean_squared_error: 0.0252\n",
      "Epoch 7/10\n",
      "\u001b[1m3032/3032\u001b[0m \u001b[32m━━━━━━━━━━━━━━━━━━━━\u001b[0m\u001b[37m\u001b[0m \u001b[1m62s\u001b[0m 20ms/step - loss: 2.9388e-04 - root_mean_squared_error: 0.0242 - val_loss: 3.0893e-04 - val_root_mean_squared_error: 0.0249\n",
      "Epoch 8/10\n",
      "\u001b[1m3032/3032\u001b[0m \u001b[32m━━━━━━━━━━━━━━━━━━━━\u001b[0m\u001b[37m\u001b[0m \u001b[1m61s\u001b[0m 20ms/step - loss: 2.8819e-04 - root_mean_squared_error: 0.0240 - val_loss: 3.1227e-04 - val_root_mean_squared_error: 0.0250\n",
      "Epoch 9/10\n",
      "\u001b[1m3032/3032\u001b[0m \u001b[32m━━━━━━━━━━━━━━━━━━━━\u001b[0m\u001b[37m\u001b[0m \u001b[1m63s\u001b[0m 21ms/step - loss: 2.8768e-04 - root_mean_squared_error: 0.0240 - val_loss: 2.9596e-04 - val_root_mean_squared_error: 0.0243\n",
      "Epoch 10/10\n",
      "\u001b[1m3032/3032\u001b[0m \u001b[32m━━━━━━━━━━━━━━━━━━━━\u001b[0m\u001b[37m\u001b[0m \u001b[1m62s\u001b[0m 20ms/step - loss: 2.8078e-04 - root_mean_squared_error: 0.0237 - val_loss: 2.7405e-04 - val_root_mean_squared_error: 0.0234\n"
     ]
    }
   ],
   "source": [
    "model_huber = Sequential()\n",
    "model_huber.add(InputLayer(shape = (10,1)))\n",
    "model_huber.add(LSTM(128,return_sequences=True))\n",
    "model_huber.add(LSTM(32))\n",
    "\n",
    "model_huber.add(Dense(8,'relu'))\n",
    "model_huber.add(Dense(1,'linear'))\n",
    "\n",
    "model_huber.compile(loss='Huber',optimizer=Adam(learning_rate=0.001),metrics = [RootMeanSquaredError()])\n",
    "# model_huber.compile(loss=huber_loss,optimizer=Adam(learning_rate=0.0001),metrics = ['accuracy'])\n",
    "\n",
    "history_huber = model_huber.fit(X_train,Y_train,validation_data=(X_test,Y_test),epochs=10)"
   ]
  },
  {
   "cell_type": "code",
   "execution_count": null,
   "metadata": {},
   "outputs": [],
   "source": [
    "import tensorflow as tf\n",
    "import keras.backend as K\n",
    "def custom_loss(y_true, y_pred):\n",
    "    y_true_next = y_true[1:]\n",
    "    y_pred_next = y_pred[1:]\n",
    "    \n",
    "    y_true_tdy = y_true[:-1]\n",
    "    y_pred_tdy = y_pred[:-1]\n",
    "    \n",
    "    y_true_diff = tf.subtract(y_true_next, y_true_tdy)\n",
    "    y_pred_diff = tf.subtract(y_pred_next, y_pred_tdy)\n",
    "    \n",
    "    y_true_move = tf.cast(tf.greater_equal(y_true_diff, 0), tf.float32)\n",
    "    y_pred_move = tf.cast(tf.greater_equal(y_pred_diff, 0), tf.float32)\n",
    "    \n",
    "    direction_mismatch = tf.not_equal(y_true_move, y_pred_move)\n",
    "    \n",
    "    penalty_factor = tf.reduce_mean(tf.abs(y_true_diff)) \n",
    "    penalty = tf.where(direction_mismatch, \n",
    "                       (tf.abs(y_true_diff - y_pred_diff) * penalty_factor), \n",
    "                       tf.zeros_like(y_true_diff))   \n",
    "    # Mean squared error loss\n",
    "    # mse_loss = K.mean(K.square(y_true - y_pred), axis=-1)\n",
    "    mse_loss = tf.reduce_mean(tf.square(y_true - y_pred), axis=-1)\n",
    "    \n",
    "    custom_loss = mse_loss + penalty\n",
    "    \n",
    "    return custom_loss"
   ]
  },
  {
   "cell_type": "code",
   "execution_count": null,
   "metadata": {},
   "outputs": [
    {
     "name": "stdout",
     "output_type": "stream",
     "text": [
      "Epoch 1/10\n",
      "\u001b[1m3032/3032\u001b[0m \u001b[32m━━━━━━━━━━━━━━━━━━━━\u001b[0m\u001b[37m\u001b[0m \u001b[1m61s\u001b[0m 19ms/step - loss: 0.0056 - root_mean_squared_error: 0.0576 - val_loss: 0.0014 - val_root_mean_squared_error: 0.0296\n",
      "Epoch 2/10\n",
      "\u001b[1m3032/3032\u001b[0m \u001b[32m━━━━━━━━━━━━━━━━━━━━\u001b[0m\u001b[37m\u001b[0m \u001b[1m61s\u001b[0m 20ms/step - loss: 0.0012 - root_mean_squared_error: 0.0274 - val_loss: 0.0011 - val_root_mean_squared_error: 0.0267\n",
      "Epoch 3/10\n",
      "\u001b[1m3032/3032\u001b[0m \u001b[32m━━━━━━━━━━━━━━━━━━━━\u001b[0m\u001b[37m\u001b[0m \u001b[1m62s\u001b[0m 20ms/step - loss: 0.0011 - root_mean_squared_error: 0.0260 - val_loss: 9.9080e-04 - val_root_mean_squared_error: 0.0246\n",
      "Epoch 4/10\n",
      "\u001b[1m3032/3032\u001b[0m \u001b[32m━━━━━━━━━━━━━━━━━━━━\u001b[0m\u001b[37m\u001b[0m \u001b[1m66s\u001b[0m 22ms/step - loss: 9.9896e-04 - root_mean_squared_error: 0.0252 - val_loss: 0.0010 - val_root_mean_squared_error: 0.0250\n",
      "Epoch 5/10\n",
      "\u001b[1m3032/3032\u001b[0m \u001b[32m━━━━━━━━━━━━━━━━━━━━\u001b[0m\u001b[37m\u001b[0m \u001b[1m64s\u001b[0m 21ms/step - loss: 9.3595e-04 - root_mean_squared_error: 0.0243 - val_loss: 9.6645e-04 - val_root_mean_squared_error: 0.0244\n",
      "Epoch 6/10\n",
      "\u001b[1m3032/3032\u001b[0m \u001b[32m━━━━━━━━━━━━━━━━━━━━\u001b[0m\u001b[37m\u001b[0m \u001b[1m61s\u001b[0m 20ms/step - loss: 9.4824e-04 - root_mean_squared_error: 0.0245 - val_loss: 9.1155e-04 - val_root_mean_squared_error: 0.0235\n",
      "Epoch 7/10\n",
      "\u001b[1m3032/3032\u001b[0m \u001b[32m━━━━━━━━━━━━━━━━━━━━\u001b[0m\u001b[37m\u001b[0m \u001b[1m60s\u001b[0m 20ms/step - loss: 8.8327e-04 - root_mean_squared_error: 0.0237 - val_loss: 9.5335e-04 - val_root_mean_squared_error: 0.0243\n",
      "Epoch 8/10\n",
      "\u001b[1m3032/3032\u001b[0m \u001b[32m━━━━━━━━━━━━━━━━━━━━\u001b[0m\u001b[37m\u001b[0m \u001b[1m61s\u001b[0m 20ms/step - loss: 8.9636e-04 - root_mean_squared_error: 0.0236 - val_loss: 8.6111e-04 - val_root_mean_squared_error: 0.0230\n",
      "Epoch 9/10\n",
      "\u001b[1m3032/3032\u001b[0m \u001b[32m━━━━━━━━━━━━━━━━━━━━\u001b[0m\u001b[37m\u001b[0m \u001b[1m62s\u001b[0m 20ms/step - loss: 8.7397e-04 - root_mean_squared_error: 0.0233 - val_loss: 9.5857e-04 - val_root_mean_squared_error: 0.0246\n",
      "Epoch 10/10\n",
      "\u001b[1m3032/3032\u001b[0m \u001b[32m━━━━━━━━━━━━━━━━━━━━\u001b[0m\u001b[37m\u001b[0m \u001b[1m59s\u001b[0m 19ms/step - loss: 8.4245e-04 - root_mean_squared_error: 0.0228 - val_loss: 9.7874e-04 - val_root_mean_squared_error: 0.0255\n"
     ]
    }
   ],
   "source": [
    "model_custom = Sequential()\n",
    "model_custom.add(InputLayer(shape = (10,1)))\n",
    "model_custom.add(LSTM(128,return_sequences=True))\n",
    "model_custom.add(LSTM(32))\n",
    "\n",
    "model_custom.add(Dense(8,'relu'))\n",
    "model_custom.add(Dense(1,'linear'))\n",
    "\n",
    "model_custom.compile(loss=custom_loss,optimizer=Adam(learning_rate=0.001),metrics = [RootMeanSquaredError()])\n",
    "# model_custom.compile(loss=custom_loss,optimizer=Adam(learning_rate=0.0001),metrics = ['accuracy'])\n",
    "\n",
    "history_custom = model_custom.fit(X_train,Y_train,validation_data=(X_test,Y_test),epochs=10)"
   ]
  },
  {
   "cell_type": "code",
   "execution_count": 32,
   "metadata": {},
   "outputs": [
    {
     "data": {
      "image/png": "[encoded data removed]",
      "text/plain": [
       "<Figure size 640x480 with 1 Axes>"
      ]
     },
     "metadata": {},
     "output_type": "display_data"
    }
   ],
   "source": [
    "plt.plot(history_mse.history['loss'],label = 'Mean Squared Error')\n",
    "plt.plot(history_mae.history['loss'],label = 'Mean Absolute Error')\n",
    "plt.plot(history_huber.history['loss'],label = 'Huber Loss')\n",
    "plt.plot(history_custom.history['loss'],label = 'Custom Loss')\n",
    "plt.gca().set_xscale('linear')\n",
    "plt.title('Different Losses')\n",
    "plt.legend()\n",
    "plt.show()"
   ]
  },
  {
   "cell_type": "code",
   "execution_count": 36,
   "metadata": {},
   "outputs": [
    {
     "name": "stdout",
     "output_type": "stream",
     "text": [
      "\u001b[1m3032/3032\u001b[0m \u001b[32m━━━━━━━━━━━━━━━━━━━━\u001b[0m\u001b[37m\u001b[0m \u001b[1m24s\u001b[0m 8ms/step\n",
      "\u001b[1m3032/3032\u001b[0m \u001b[32m━━━━━━━━━━━━━━━━━━━━\u001b[0m\u001b[37m\u001b[0m \u001b[1m26s\u001b[0m 9ms/step\n",
      "\u001b[1m3032/3032\u001b[0m \u001b[32m━━━━━━━━━━━━━━━━━━━━\u001b[0m\u001b[37m\u001b[0m \u001b[1m25s\u001b[0m 8ms/step\n",
      "\u001b[1m3032/3032\u001b[0m \u001b[32m━━━━━━━━━━━━━━━━━━━━\u001b[0m\u001b[37m\u001b[0m \u001b[1m27s\u001b[0m 9ms/step\n",
      "\u001b[1m758/758\u001b[0m \u001b[32m━━━━━━━━━━━━━━━━━━━━\u001b[0m\u001b[37m\u001b[0m \u001b[1m6s\u001b[0m 8ms/step\n",
      "\u001b[1m758/758\u001b[0m \u001b[32m━━━━━━━━━━━━━━━━━━━━\u001b[0m\u001b[37m\u001b[0m \u001b[1m6s\u001b[0m 9ms/step\n",
      "\u001b[1m758/758\u001b[0m \u001b[32m━━━━━━━━━━━━━━━━━━━━\u001b[0m\u001b[37m\u001b[0m \u001b[1m7s\u001b[0m 9ms/step\n",
      "\u001b[1m758/758\u001b[0m \u001b[32m━━━━━━━━━━━━━━━━━━━━\u001b[0m\u001b[37m\u001b[0m \u001b[1m7s\u001b[0m 9ms/step\n"
     ]
    }
   ],
   "source": [
    "train_predictions_mse = model_mse.predict(X_train).flatten()\n",
    "train_predictions_mae = model_mae.predict(X_train).flatten()\n",
    "train_predictions_custom = model_custom.predict(X_train).flatten()\n",
    "train_predictions_huber = model_huber.predict(X_train).flatten()\n",
    "\n",
    "test_predictions_mse= model_mse.predict(X_test).flatten()\n",
    "test_predictions_mae= model_mae.predict(X_test).flatten()\n",
    "test_predictions_custom= model_custom.predict(X_test).flatten()\n",
    "test_predictions_huber = model_huber.predict(X_test).flatten()"
   ]
  },
  {
   "cell_type": "code",
   "execution_count": 41,
   "metadata": {},
   "outputs": [
    {
     "name": "stdout",
     "output_type": "stream",
     "text": [
      "MSE model  0.014632605284394501\n",
      "MAE model  0.01369014291845786\n",
      "Huber model  0.013884653343846212\n",
      "Custom model  0.01659073521569804\n",
      "\n",
      "MSE model  0.000567330911176765\n",
      "MAE model  0.0005479341058078367\n",
      "Huber model  0.0005191193468417387\n",
      "Custom model  0.0006207768435139674\n",
      "\n",
      "MSE model  tf.Tensor(0.00028366546, shape=(), dtype=float32)\n",
      "MAE model  tf.Tensor(0.00027396707, shape=(), dtype=float32)\n",
      "Huber model  tf.Tensor(0.00025955966, shape=(), dtype=float32)\n",
      "Custom model  tf.Tensor(0.00031038842, shape=(), dtype=float32)\n"
     ]
    }
   ],
   "source": [
    "huber_loss = tf.keras.losses.Huber(delta=1.0)  # delta is the threshold for transition between quadratic and linear loss\n",
    "\n",
    "print(\"MSE model \" ,mean_absolute_error(Y_train,train_predictions_mse))\n",
    "print(\"MAE model \" ,mean_absolute_error(Y_train,train_predictions_mae))\n",
    "print(\"Huber model \" ,mean_absolute_error(Y_train,train_predictions_huber))\n",
    "print(\"Custom model \" ,mean_absolute_error(Y_train,train_predictions_custom))\n",
    "print()\n",
    "\n",
    "print(\"MSE model \" ,mean_squared_error(Y_train,train_predictions_mse))\n",
    "print(\"MAE model \" ,mean_squared_error(Y_train,train_predictions_mae))\n",
    "print(\"Huber model \" ,mean_squared_error(Y_train,train_predictions_huber))\n",
    "print(\"Custom model \" ,mean_squared_error(Y_train,train_predictions_custom))\n",
    "print()\n",
    "\n",
    "print(\"MSE model \" ,huber_loss(Y_train,train_predictions_mse))\n",
    "print(\"MAE model \" ,huber_loss(Y_train,train_predictions_mae))\n",
    "print(\"Huber model \" ,huber_loss(Y_train,train_predictions_huber))\n",
    "print(\"Custom model \" ,huber_loss(Y_train,train_predictions_custom))"
   ]
  },
  {
   "cell_type": "code",
   "execution_count": null,
   "metadata": {},
   "outputs": [
    {
     "name": "stdout",
     "output_type": "stream",
     "text": [
      "MSE model  0.014755380072022796\n",
      "MAE model  0.013831377782865372\n",
      "Huber model  0.01394514537852135\n",
      "Custom model  0.016664370426480314\n",
      "\n",
      "MSE model  0.0005981877091571154\n",
      "MAE model  0.0005790944016802323\n",
      "Huber model  0.0005481074485495504\n",
      "Custom model  0.000650927784290348\n",
      "\n",
      "MSE model  tf.Tensor(0.00029909384, shape=(), dtype=float32)\n",
      "MAE model  tf.Tensor(0.0002895472, shape=(), dtype=float32)\n",
      "Huber model  tf.Tensor(0.00027405372, shape=(), dtype=float32)\n",
      "Custom model  tf.Tensor(0.0003254639, shape=(), dtype=float32)\n"
     ]
    }
   ],
   "source": [
    "print(\"MSE model \" ,mean_absolute_error(Y_test,test_predictions_mse))\n",
    "print(\"MAE model \" ,mean_absolute_error(Y_test,test_predictions_mae))\n",
    "print(\"Huber model \" ,mean_absolute_error(Y_test,test_predictions_huber))\n",
    "print(\"Custom model \" ,mean_absolute_error(Y_test,test_predictions_custom))\n",
    "print()\n",
    "\n",
    "print(\"MSE model \" ,mean_squared_error(Y_test,test_predictions_mse))\n",
    "print(\"MAE model \" ,mean_squared_error(Y_test,test_predictions_mae))\n",
    "print(\"Huber model \" ,mean_squared_error(Y_test,test_predictions_huber))\n",
    "print(\"Custom model \" ,mean_squared_error(Y_test,test_predictions_custom))\n",
    "print()\n",
    "\n",
    "print(\"MSE model \" ,huber_loss(Y_test,test_predictions_mse))\n",
    "print(\"MAE model \" ,huber_loss(Y_test,test_predictions_mae))\n",
    "print(\"Huber model \" ,huber_loss(Y_test,test_predictions_huber))\n",
    "print(\"Custom model \" ,huber_loss(Y_test,test_predictions_custom))"
   ]
  },
  {
   "cell_type": "code",
   "execution_count": 43,
   "metadata": {},
   "outputs": [
    {
     "name": "stdout",
     "output_type": "stream",
     "text": [
      "MSE model  0.9767582217882185\n",
      "MAE model  0.9775000665485067\n",
      "Huber model  0.978704022900497\n",
      "Custom model  0.9747090771629527\n"
     ]
    }
   ],
   "source": [
    "print(\"MSE model \" ,r2_score(Y_test,test_predictions_mse))\n",
    "print(\"MAE model \" ,r2_score(Y_test,test_predictions_mae))\n",
    "print(\"Huber model \" ,r2_score(Y_test,test_predictions_huber))\n",
    "print(\"Custom model \" ,r2_score(Y_test,test_predictions_custom))"
   ]
  },
  {
   "cell_type": "code",
   "execution_count": 44,
   "metadata": {},
   "outputs": [
    {
     "name": "stdout",
     "output_type": "stream",
     "text": [
      "MSE model  0.9780895977079216\n",
      "MAE model  0.978838705151993\n",
      "Huber model  0.9799515353335655\n",
      "Custom model  0.976025508028841\n"
     ]
    }
   ],
   "source": [
    "print(\"MSE model \" ,r2_score(Y_train,train_predictions_mse))\n",
    "print(\"MAE model \" ,r2_score(Y_train,train_predictions_mae))\n",
    "print(\"Huber model \" ,r2_score(Y_train,train_predictions_huber))\n",
    "print(\"Custom model \" ,r2_score(Y_train,train_predictions_custom))"
   ]
  },
  {
   "cell_type": "code",
   "execution_count": null,
   "metadata": {},
   "outputs": [],
   "source": []
  }
 ],
 "metadata": {
  "kernelspec": {
   "display_name": "Python 3 (ipykernel)",
   "language": "python",
   "name": "python3"
  }
 },
 "nbformat": 4,
 "nbformat_minor": 2
}
